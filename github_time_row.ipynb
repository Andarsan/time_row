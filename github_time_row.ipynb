{
  "cells": [
    {
      "cell_type": "markdown",
      "metadata": {
        "id": "view-in-github",
        "colab_type": "text"
      },
      "source": [
        "<a href=\"https://colab.research.google.com/github/Andarsan/time_row/blob/main/github_time_row.ipynb\" target=\"_parent\"><img src=\"https://colab.research.google.com/assets/colab-badge.svg\" alt=\"Open In Colab\"/></a>"
      ]
    },
    {
      "cell_type": "markdown",
      "metadata": {
        "id": "RV977x48ZDLQ"
      },
      "source": [
        "#  Прогнозирование заказов такси"
      ]
    },
    {
      "cell_type": "markdown",
      "metadata": {
        "id": "fm9SMnkuZDLR"
      },
      "source": [
        "Компания «Чётенькое такси» собрала исторические данные о заказах такси в аэропортах. Чтобы привлекать больше водителей в период пиковой нагрузки, нужно спрогнозировать количество заказов такси на следующий час. Постройте модель для такого предсказания.\n",
        "\n",
        "Значение метрики *RMSE* на тестовой выборке должно быть не больше 48.\n",
        "\n",
        "Вам нужно:\n",
        "\n",
        "1. Загрузить данные и выполнить их ресемплирование по одному часу.\n",
        "2. Проанализировать данные.\n",
        "3. Обучить разные модели с различными гиперпараметрами. Сделать тестовую выборку размером 10% от исходных данных.\n",
        "4. Проверить данные на тестовой выборке и сделать выводы.\n",
        "\n",
        "\n",
        "Данные лежат в файле `taxi.csv`. Количество заказов находится в столбце `num_orders` (от англ. *number of orders*, «число заказов»)."
      ]
    },
    {
      "cell_type": "markdown",
      "metadata": {
        "id": "Fi41JMuiZDLR"
      },
      "source": [
        "## Подготовка"
      ]
    },
    {
      "cell_type": "code",
      "execution_count": null,
      "metadata": {
        "colab": {
          "base_uri": "https://localhost:8080/"
        },
        "id": "GKljvM7oZDLS",
        "outputId": "ecdb4dfb-36f7-4394-93e0-a82b90a659a7"
      },
      "outputs": [
        {
          "output_type": "stream",
          "name": "stdout",
          "text": [
            "Defaulting to user installation because normal site-packages is not writeable\n",
            "Requirement already satisfied: catboost in c:\\users\\andar\\appdata\\roaming\\python\\python311\\site-packages (1.2.5)\n",
            "Requirement already satisfied: graphviz in c:\\users\\andar\\appdata\\roaming\\python\\python311\\site-packages (from catboost) (0.20.3)\n",
            "Requirement already satisfied: matplotlib in c:\\programdata\\anaconda3\\lib\\site-packages (from catboost) (3.8.0)\n",
            "Requirement already satisfied: numpy>=1.16.0 in c:\\users\\andar\\appdata\\roaming\\python\\python311\\site-packages (from catboost) (1.24.3)\n",
            "Requirement already satisfied: pandas>=0.24 in c:\\programdata\\anaconda3\\lib\\site-packages (from catboost) (2.1.4)\n",
            "Requirement already satisfied: scipy in c:\\programdata\\anaconda3\\lib\\site-packages (from catboost) (1.11.4)\n",
            "Requirement already satisfied: plotly in c:\\programdata\\anaconda3\\lib\\site-packages (from catboost) (5.9.0)\n",
            "Requirement already satisfied: six in c:\\programdata\\anaconda3\\lib\\site-packages (from catboost) (1.16.0)\n",
            "Requirement already satisfied: python-dateutil>=2.8.2 in c:\\programdata\\anaconda3\\lib\\site-packages (from pandas>=0.24->catboost) (2.8.2)\n",
            "Requirement already satisfied: pytz>=2020.1 in c:\\programdata\\anaconda3\\lib\\site-packages (from pandas>=0.24->catboost) (2023.3.post1)\n",
            "Requirement already satisfied: tzdata>=2022.1 in c:\\programdata\\anaconda3\\lib\\site-packages (from pandas>=0.24->catboost) (2023.3)\n",
            "Requirement already satisfied: contourpy>=1.0.1 in c:\\programdata\\anaconda3\\lib\\site-packages (from matplotlib->catboost) (1.2.0)\n",
            "Requirement already satisfied: cycler>=0.10 in c:\\programdata\\anaconda3\\lib\\site-packages (from matplotlib->catboost) (0.11.0)\n",
            "Requirement already satisfied: fonttools>=4.22.0 in c:\\programdata\\anaconda3\\lib\\site-packages (from matplotlib->catboost) (4.25.0)\n",
            "Requirement already satisfied: kiwisolver>=1.0.1 in c:\\programdata\\anaconda3\\lib\\site-packages (from matplotlib->catboost) (1.4.4)\n",
            "Requirement already satisfied: packaging>=20.0 in c:\\programdata\\anaconda3\\lib\\site-packages (from matplotlib->catboost) (23.1)\n",
            "Requirement already satisfied: pillow>=6.2.0 in c:\\programdata\\anaconda3\\lib\\site-packages (from matplotlib->catboost) (10.2.0)\n",
            "Requirement already satisfied: pyparsing>=2.3.1 in c:\\programdata\\anaconda3\\lib\\site-packages (from matplotlib->catboost) (3.0.9)\n",
            "Requirement already satisfied: tenacity>=6.2.0 in c:\\programdata\\anaconda3\\lib\\site-packages (from plotly->catboost) (8.2.2)\n",
            "An exception of type ModuleNotFoundError occurred. Arguments:\n",
            "(\"No module named 'google.colab'\",)\n"
          ]
        }
      ],
      "source": [
        "import pandas as pd\n",
        "import matplotlib.pyplot as plt\n",
        "import time\n",
        "from statsmodels.tsa.seasonal import seasonal_decompose\n",
        "\n",
        "from sklearn.model_selection import train_test_split, \\\n",
        "                             RandomizedSearchCV, TimeSeriesSplit, cross_val_score\n",
        "\n",
        "from sklearn.linear_model import LinearRegression\n",
        "# модели\n",
        "! pip install catboost\n",
        "from catboost import CatBoostRegressor\n",
        "from sklearn.tree import DecisionTreeRegressor\n",
        "from lightgbm import LGBMRegressor\n",
        "from sklearn.metrics import mean_absolute_error, mean_squared_error\n",
        "import warnings\n",
        "warnings.filterwarnings(\"ignore\")\n",
        "try:\n",
        "    from google.colab import drive\n",
        "    drive.mount('/content/drive')\n",
        "except Exception as ex:\n",
        "    template = \"An exception of type {0} occurred. Arguments:\\n{1!r}\"\n",
        "    message = template.format(type(ex).__name__, ex.args)\n",
        "    print(message)\n",
        "import os\n",
        "import time\n",
        "import copy"
      ]
    },
    {
      "cell_type": "code",
      "source": [
        "pth1 = '/datasets'#/ferma_main.csv'\n",
        "pth2 = '/content/drive/MyDrive/Colab Notebooks/all_project'#/ferma_main.csv'\n",
        "pth3 = 'C:/Users/andar/Downloads'\n",
        "if os.path.exists(pth1):\n",
        "  pth = pth1\n",
        "elif os.path.exists(pth2):\n",
        "  pth = pth2\n",
        "elif os.path.exists(pth3):\n",
        "  pth = pth3\n",
        "else:\n",
        "  pth = 'Something is wrong'\n",
        "display(f'рабочий каталог: {pth}')"
      ],
      "metadata": {
        "colab": {
          "base_uri": "https://localhost:8080/",
          "height": 34
        },
        "id": "cpuScY0KZ1CK",
        "outputId": "fc30b1ce-c150-4c35-b536-b611bf0ef8b2"
      },
      "execution_count": null,
      "outputs": [
        {
          "output_type": "display_data",
          "data": {
            "text/plain": [
              "'рабочий каталог: C:/Users/andar/Downloads'"
            ]
          },
          "metadata": {}
        }
      ]
    },
    {
      "cell_type": "code",
      "execution_count": null,
      "metadata": {
        "id": "vUEYqrgiZDLT"
      },
      "outputs": [],
      "source": [
        "\n",
        "def df_plt_describe(_df,_for,describe=False):\n",
        "    for i in _for:\n",
        "        j=0\n",
        "        for _ in range(1):\n",
        "            if _df[i].dtype != 'object':\n",
        "                # Set up the plot\n",
        "                ax = plt.subplot(2, 2, j + 1)\n",
        "                j = j+1\n",
        "                # Draw the plot\n",
        "                ax.boxplot(_df[i])\n",
        "                # Title and labels\n",
        "                ax.set_title(i)\n",
        "                ax = plt.subplot(2, 2, j + 1)\n",
        "                j = j+1\n",
        "                # Draw the plot\n",
        "                ax.hist(_df[i])\n",
        "                # Title and labels\n",
        "                ax.set_title(i)\n",
        "        plt.tight_layout()\n",
        "        plt.show()\n",
        "        plt.close()\n",
        "    if describe:\n",
        "        display(_df[_for].describe())\n"
      ]
    },
    {
      "cell_type": "code",
      "execution_count": null,
      "metadata": {
        "colab": {
          "base_uri": "https://localhost:8080/",
          "height": 393
        },
        "id": "-hERIfAkZDLT",
        "outputId": "4acf8394-63f7-4ef9-f8db-34bebfceb17d"
      },
      "outputs": [
        {
          "output_type": "display_data",
          "data": {
            "text/plain": [
              "                     num_orders\n",
              "datetime                       \n",
              "2018-03-01 00:00:00           9\n",
              "2018-03-01 00:10:00          14\n",
              "2018-03-01 00:20:00          28\n",
              "2018-03-01 00:30:00          20\n",
              "2018-03-01 00:40:00          32"
            ],
            "text/html": [
              "<div>\n",
              "<style scoped>\n",
              "    .dataframe tbody tr th:only-of-type {\n",
              "        vertical-align: middle;\n",
              "    }\n",
              "\n",
              "    .dataframe tbody tr th {\n",
              "        vertical-align: top;\n",
              "    }\n",
              "\n",
              "    .dataframe thead th {\n",
              "        text-align: right;\n",
              "    }\n",
              "</style>\n",
              "<table border=\"1\" class=\"dataframe\">\n",
              "  <thead>\n",
              "    <tr style=\"text-align: right;\">\n",
              "      <th></th>\n",
              "      <th>num_orders</th>\n",
              "    </tr>\n",
              "    <tr>\n",
              "      <th>datetime</th>\n",
              "      <th></th>\n",
              "    </tr>\n",
              "  </thead>\n",
              "  <tbody>\n",
              "    <tr>\n",
              "      <th>2018-03-01 00:00:00</th>\n",
              "      <td>9</td>\n",
              "    </tr>\n",
              "    <tr>\n",
              "      <th>2018-03-01 00:10:00</th>\n",
              "      <td>14</td>\n",
              "    </tr>\n",
              "    <tr>\n",
              "      <th>2018-03-01 00:20:00</th>\n",
              "      <td>28</td>\n",
              "    </tr>\n",
              "    <tr>\n",
              "      <th>2018-03-01 00:30:00</th>\n",
              "      <td>20</td>\n",
              "    </tr>\n",
              "    <tr>\n",
              "      <th>2018-03-01 00:40:00</th>\n",
              "      <td>32</td>\n",
              "    </tr>\n",
              "  </tbody>\n",
              "</table>\n",
              "</div>"
            ]
          },
          "metadata": {}
        },
        {
          "output_type": "stream",
          "name": "stdout",
          "text": [
            "<class 'pandas.core.frame.DataFrame'>\n",
            "DatetimeIndex: 26496 entries, 2018-03-01 00:00:00 to 2018-08-31 23:50:00\n",
            "Data columns (total 1 columns):\n",
            " #   Column      Non-Null Count  Dtype\n",
            "---  ------      --------------  -----\n",
            " 0   num_orders  26496 non-null  int64\n",
            "dtypes: int64(1)\n",
            "memory usage: 414.0 KB\n"
          ]
        },
        {
          "output_type": "display_data",
          "data": {
            "text/plain": [
              "None"
            ]
          },
          "metadata": {}
        }
      ],
      "source": [
        "df = pd.read_csv(pth + '/taxi.csv', index_col=[0], parse_dates=[0])\n",
        "display(df.head(5))\n",
        "display(df.info())\n"
      ]
    },
    {
      "cell_type": "code",
      "execution_count": null,
      "metadata": {
        "colab": {
          "base_uri": "https://localhost:8080/",
          "height": 276
        },
        "id": "lrGUzDF7ZDLV",
        "outputId": "ea40b35d-5fe0-4120-bfb3-c179f2afa0e9"
      },
      "outputs": [
        {
          "output_type": "display_data",
          "data": {
            "text/plain": [
              "<Figure size 640x480 with 2 Axes>"
            ],
            "image/png": "[encoded data removed]"
          },
          "metadata": {}
        }
      ],
      "source": [
        "df_plt_describe(df,['num_orders'])"
      ]
    },
    {
      "cell_type": "code",
      "execution_count": null,
      "metadata": {
        "scrolled": false,
        "colab": {
          "base_uri": "https://localhost:8080/",
          "height": 276
        },
        "id": "STlOcESHZDLV",
        "outputId": "56984212-94ec-4757-e3e8-7b07396a1081"
      },
      "outputs": [
        {
          "output_type": "display_data",
          "data": {
            "text/plain": [
              "<Figure size 640x480 with 2 Axes>"
            ],
            "image/png": "[encoded data removed]"
          },
          "metadata": {}
        }
      ],
      "source": [
        "df_plt_describe(df.query('num_orders > 60'),['num_orders'])"
      ]
    },
    {
      "cell_type": "code",
      "execution_count": null,
      "metadata": {
        "colab": {
          "base_uri": "https://localhost:8080/",
          "height": 276
        },
        "id": "EccaJEdXZDLV",
        "outputId": "34aa98aa-b6cc-432d-a4ac-b0336dc832d6"
      },
      "outputs": [
        {
          "output_type": "display_data",
          "data": {
            "text/plain": [
              "<Figure size 640x480 with 2 Axes>"
            ],
            "image/png": "[encoded data removed]"
          },
          "metadata": {}
        }
      ],
      "source": [
        "df_plt_describe(df.query('num_orders > 100'),['num_orders'])"
      ]
    },
    {
      "cell_type": "markdown",
      "metadata": {
        "id": "zckCVBEuZDLW"
      },
      "source": [
        "•\tВсё по красоте"
      ]
    },
    {
      "cell_type": "code",
      "execution_count": null,
      "metadata": {
        "id": "GjVs51n3ZDLW"
      },
      "outputs": [],
      "source": [
        "df = df.sort_index()"
      ]
    },
    {
      "cell_type": "code",
      "execution_count": null,
      "metadata": {
        "id": "o-kR2MgKZDLW"
      },
      "outputs": [],
      "source": [
        "df['resample_sum'] = df.resample('1h').sum()\n",
        "df['year'] = df.index.year\n",
        "df['month'] = df.index.month\n",
        "df['day'] = df.index.day\n",
        "df['hour'] = df.index.hour\n",
        "df['dayofweek'] = df.index.dayofweek\n",
        "df['minute'] = df.index.minute\n",
        "df['second'] = df.index.second"
      ]
    },
    {
      "cell_type": "markdown",
      "metadata": {
        "id": "WEc7U-dRZDLX"
      },
      "source": [
        "В итоге:\n",
        "* прочитали данные и обозначили индекс datatime\n",
        "* создали распределения по одному часу.\n",
        "* добавили новые признаки из индекса год, месяц, ниделя, день, час, минута, секунда, ресемпл по часу (наш целевой п.)"
      ]
    },
    {
      "cell_type": "markdown",
      "metadata": {
        "id": "3yKJfXtyZDLX"
      },
      "source": [
        "## Анализ"
      ]
    },
    {
      "cell_type": "code",
      "execution_count": null,
      "metadata": {
        "scrolled": true,
        "colab": {
          "base_uri": "https://localhost:8080/",
          "height": 156
        },
        "id": "jbYwynkkZDLX",
        "outputId": "6db2aa61-03fc-4106-9feb-eead7499873f"
      },
      "outputs": [
        {
          "output_type": "display_data",
          "data": {
            "text/plain": [
              "array([2018])"
            ]
          },
          "metadata": {}
        },
        {
          "output_type": "display_data",
          "data": {
            "text/plain": [
              "array([3, 4, 5, 6, 7, 8])"
            ]
          },
          "metadata": {}
        },
        {
          "output_type": "display_data",
          "data": {
            "text/plain": [
              "array([ 1,  2,  3,  4,  5,  6,  7,  8,  9, 10, 11, 12, 13, 14, 15, 16, 17,\n",
              "       18, 19, 20, 21, 22, 23, 24, 25, 26, 27, 28, 29, 30, 31])"
            ]
          },
          "metadata": {}
        },
        {
          "output_type": "display_data",
          "data": {
            "text/plain": [
              "array([ 0,  1,  2,  3,  4,  5,  6,  7,  8,  9, 10, 11, 12, 13, 14, 15, 16,\n",
              "       17, 18, 19, 20, 21, 22, 23])"
            ]
          },
          "metadata": {}
        },
        {
          "output_type": "display_data",
          "data": {
            "text/plain": [
              "array([ 0, 10, 20, 30, 40, 50])"
            ]
          },
          "metadata": {}
        },
        {
          "output_type": "display_data",
          "data": {
            "text/plain": [
              "array([0])"
            ]
          },
          "metadata": {}
        }
      ],
      "source": [
        "for _i in ['year','month','day','hour','minute','second']:\n",
        "    display(df[_i].unique())"
      ]
    },
    {
      "cell_type": "markdown",
      "metadata": {
        "id": "-RgzFc_wZDLY"
      },
      "source": [
        "* секунд не существует удалим их\n",
        "* год один тоже не нужен\n",
        "* минуты и вызовы по минутам нам тоже не нужны"
      ]
    },
    {
      "cell_type": "code",
      "execution_count": null,
      "metadata": {
        "id": "QuPmQDefZDLY"
      },
      "outputs": [],
      "source": [
        "df = df.drop(columns=['year','second','num_orders','minute'])"
      ]
    },
    {
      "cell_type": "code",
      "execution_count": null,
      "metadata": {
        "scrolled": false,
        "colab": {
          "base_uri": "https://localhost:8080/",
          "height": 52
        },
        "id": "F_pGK8FDZDLY",
        "outputId": "0b2bde20-45ab-469d-c8ab-eabe36f73787"
      },
      "outputs": [
        {
          "output_type": "display_data",
          "data": {
            "text/plain": [
              "26495"
            ]
          },
          "metadata": {}
        },
        {
          "output_type": "display_data",
          "data": {
            "text/plain": [
              "26495"
            ]
          },
          "metadata": {}
        }
      ],
      "source": [
        "_n = []\n",
        "\n",
        "for i in range(0,df.shape[0]-1):\n",
        "    _n.append(df.index.values[i+1] == df.index.values[i] + 600000000000 )\n",
        "\n",
        "display(df.shape[0]-1,sum(_n))"
      ]
    },
    {
      "cell_type": "markdown",
      "metadata": {
        "id": "5q7BX3E9ZDLZ"
      },
      "source": [
        "* спустился по временным индексам прибавляя по 10 минут.\n",
        "* идёт ли временный ряд последовательно +10 минут\n",
        "* всё чётка не одного сбоя!\n",
        "* удалим все nan"
      ]
    },
    {
      "cell_type": "code",
      "execution_count": null,
      "metadata": {
        "id": "73vkuJzEZDLZ"
      },
      "outputs": [],
      "source": [
        "df = df.dropna()"
      ]
    },
    {
      "cell_type": "code",
      "execution_count": null,
      "metadata": {
        "scrolled": true,
        "colab": {
          "base_uri": "https://localhost:8080/",
          "height": 483
        },
        "id": "LT_KGdztZDLZ",
        "outputId": "bb4ff963-6fee-4086-a99c-286f236ec0c6"
      },
      "outputs": [
        {
          "output_type": "execute_result",
          "data": {
            "text/plain": [
              "<Axes: xlabel='datetime'>"
            ]
          },
          "metadata": {},
          "execution_count": 71
        },
        {
          "output_type": "display_data",
          "data": {
            "text/plain": [
              "<Figure size 640x480 with 1 Axes>"
            ],
            "image/png": "[encoded data removed]"
          },
          "metadata": {}
        }
      ],
      "source": [
        "decompos = seasonal_decompose(df['resample_sum'])\n",
        "decompos.trend.rolling(24*7).mean().plot()"
      ]
    },
    {
      "cell_type": "code",
      "execution_count": null,
      "metadata": {
        "colab": {
          "base_uri": "https://localhost:8080/",
          "height": 515
        },
        "id": "NACjkhyLZDLa",
        "outputId": "ba590e1d-a72f-4713-f712-8db8da58ef92"
      },
      "outputs": [
        {
          "output_type": "execute_result",
          "data": {
            "text/plain": [
              "<Axes: xlabel='datetime'>"
            ]
          },
          "metadata": {},
          "execution_count": 72
        },
        {
          "output_type": "display_data",
          "data": {
            "text/plain": [
              "<Figure size 640x480 with 1 Axes>"
            ],
            "image/png": "[encoded data removed]"
          },
          "metadata": {}
        }
      ],
      "source": [
        "decompos.seasonal['2018-07-01':'2018-08-01'].plot()"
      ]
    },
    {
      "cell_type": "code",
      "execution_count": null,
      "metadata": {
        "scrolled": true,
        "colab": {
          "base_uri": "https://localhost:8080/",
          "height": 499
        },
        "id": "6yBePOeWZDLa",
        "outputId": "c7aed108-0633-46e0-bd98-54de7f56a3e0"
      },
      "outputs": [
        {
          "output_type": "execute_result",
          "data": {
            "text/plain": [
              "<Axes: xlabel='datetime'>"
            ]
          },
          "metadata": {},
          "execution_count": 73
        },
        {
          "output_type": "display_data",
          "data": {
            "text/plain": [
              "<Figure size 640x480 with 1 Axes>"
            ],
            "image/png": "[encoded data removed]"
          },
          "metadata": {}
        }
      ],
      "source": [
        "decompos.trend['2018-07-01':'2018-07-07'].plot()"
      ]
    },
    {
      "cell_type": "code",
      "execution_count": null,
      "metadata": {
        "colab": {
          "base_uri": "https://localhost:8080/",
          "height": 483
        },
        "id": "_7AJuIS2ZDLa",
        "outputId": "a2bca814-4c56-4221-f068-46f515de874d"
      },
      "outputs": [
        {
          "output_type": "execute_result",
          "data": {
            "text/plain": [
              "<Axes: xlabel='datetime'>"
            ]
          },
          "metadata": {},
          "execution_count": 74
        },
        {
          "output_type": "display_data",
          "data": {
            "text/plain": [
              "<Figure size 640x480 with 1 Axes>"
            ],
            "image/png": "[encoded data removed]"
          },
          "metadata": {}
        }
      ],
      "source": [
        "decompos.seasonal['2018-07-01':'2018-07-01'].plot()"
      ]
    },
    {
      "cell_type": "markdown",
      "metadata": {
        "id": "sXhnFDMsZDLb"
      },
      "source": [
        "Вывод:\n",
        "* временной ряд не нарушен.\n",
        "* наблюдается равномерный рост количества заказов (это либо сезонно либо рост бизнеса)\n",
        "* наблюдается  два пика заказа в неделю\n",
        "* и в течении суток меняется число заказов\n"
      ]
    },
    {
      "cell_type": "markdown",
      "metadata": {
        "id": "TQaGLW8gZDLb"
      },
      "source": [
        "## Обучение"
      ]
    },
    {
      "cell_type": "code",
      "execution_count": null,
      "metadata": {
        "id": "in5HJELnZDLb"
      },
      "outputs": [],
      "source": [
        "_df = df.copy()\n",
        "def make_features(data, max_lag, rolling_mean_size):\n",
        "    _df['month'] = data.index.month\n",
        "    _df['day'] = data.index.day\n",
        "    _df['hour'] = data.index.hour\n",
        "    _df['dayofweek'] = data.index.dayofweek\n",
        "    for lag in range(1, max_lag + 1):\n",
        "        data['lag_{}'.format(lag)] = data['resample_sum'].shift(lag)\n",
        "    data['resample_mean'] = data['resample_sum'].shift().rolling(rolling_mean_size).mean()\n",
        "\n",
        "make_features(_df,12,1)\n",
        "_df=_df.dropna()"
      ]
    },
    {
      "cell_type": "code",
      "execution_count": null,
      "metadata": {
        "colab": {
          "base_uri": "https://localhost:8080/",
          "height": 822
        },
        "id": "0IeYJEY0ZDLd",
        "outputId": "882c3b88-5af9-41b5-e3ee-f8d0453fe9d6"
      },
      "outputs": [
        {
          "output_type": "execute_result",
          "data": {
            "text/plain": [
              "                     resample_sum  month  day  hour  dayofweek  lag_1  lag_2  \\\n",
              "datetime                                                                       \n",
              "2018-03-01 12:00:00          30.0      3    1    12          3   96.0   64.0   \n",
              "2018-03-01 13:00:00          32.0      3    1    13          3   30.0   96.0   \n",
              "2018-03-01 14:00:00          48.0      3    1    14          3   32.0   30.0   \n",
              "2018-03-01 15:00:00          66.0      3    1    15          3   48.0   32.0   \n",
              "2018-03-01 16:00:00          43.0      3    1    16          3   66.0   48.0   \n",
              "...                           ...    ...  ...   ...        ...    ...    ...   \n",
              "2018-08-31 19:00:00         136.0      8   31    19          4  207.0  217.0   \n",
              "2018-08-31 20:00:00         154.0      8   31    20          4  136.0  207.0   \n",
              "2018-08-31 21:00:00         159.0      8   31    21          4  154.0  136.0   \n",
              "2018-08-31 22:00:00         223.0      8   31    22          4  159.0  154.0   \n",
              "2018-08-31 23:00:00         205.0      8   31    23          4  223.0  159.0   \n",
              "\n",
              "                     lag_3  lag_4  lag_5  lag_6  lag_7  lag_8  lag_9  lag_10  \\\n",
              "datetime                                                                       \n",
              "2018-03-01 12:00:00   69.0   34.0   15.0   12.0    6.0   43.0   66.0    71.0   \n",
              "2018-03-01 13:00:00   64.0   69.0   34.0   15.0   12.0    6.0   43.0    66.0   \n",
              "2018-03-01 14:00:00   96.0   64.0   69.0   34.0   15.0   12.0    6.0    43.0   \n",
              "2018-03-01 15:00:00   30.0   96.0   64.0   69.0   34.0   15.0   12.0     6.0   \n",
              "2018-03-01 16:00:00   32.0   30.0   96.0   64.0   69.0   34.0   15.0    12.0   \n",
              "...                    ...    ...    ...    ...    ...    ...    ...     ...   \n",
              "2018-08-31 19:00:00  197.0  116.0  133.0  166.0  136.0  167.0  191.0   203.0   \n",
              "2018-08-31 20:00:00  217.0  197.0  116.0  133.0  166.0  136.0  167.0   191.0   \n",
              "2018-08-31 21:00:00  207.0  217.0  197.0  116.0  133.0  166.0  136.0   167.0   \n",
              "2018-08-31 22:00:00  136.0  207.0  217.0  197.0  116.0  133.0  166.0   136.0   \n",
              "2018-08-31 23:00:00  154.0  136.0  207.0  217.0  197.0  116.0  133.0   166.0   \n",
              "\n",
              "                     lag_11  lag_12  resample_mean  \n",
              "datetime                                            \n",
              "2018-03-01 12:00:00    85.0   124.0           96.0  \n",
              "2018-03-01 13:00:00    71.0    85.0           30.0  \n",
              "2018-03-01 14:00:00    66.0    71.0           32.0  \n",
              "2018-03-01 15:00:00    43.0    66.0           48.0  \n",
              "2018-03-01 16:00:00     6.0    43.0           66.0  \n",
              "...                     ...     ...            ...  \n",
              "2018-08-31 19:00:00   182.0    46.0          207.0  \n",
              "2018-08-31 20:00:00   203.0   182.0          136.0  \n",
              "2018-08-31 21:00:00   191.0   203.0          154.0  \n",
              "2018-08-31 22:00:00   167.0   191.0          159.0  \n",
              "2018-08-31 23:00:00   136.0   167.0          223.0  \n",
              "\n",
              "[4404 rows x 18 columns]"
            ],
            "text/html": [
              "<div>\n",
              "<style scoped>\n",
              "    .dataframe tbody tr th:only-of-type {\n",
              "        vertical-align: middle;\n",
              "    }\n",
              "\n",
              "    .dataframe tbody tr th {\n",
              "        vertical-align: top;\n",
              "    }\n",
              "\n",
              "    .dataframe thead th {\n",
              "        text-align: right;\n",
              "    }\n",
              "</style>\n",
              "<table border=\"1\" class=\"dataframe\">\n",
              "  <thead>\n",
              "    <tr style=\"text-align: right;\">\n",
              "      <th></th>\n",
              "      <th>resample_sum</th>\n",
              "      <th>month</th>\n",
              "      <th>day</th>\n",
              "      <th>hour</th>\n",
              "      <th>dayofweek</th>\n",
              "      <th>lag_1</th>\n",
              "      <th>lag_2</th>\n",
              "      <th>lag_3</th>\n",
              "      <th>lag_4</th>\n",
              "      <th>lag_5</th>\n",
              "      <th>lag_6</th>\n",
              "      <th>lag_7</th>\n",
              "      <th>lag_8</th>\n",
              "      <th>lag_9</th>\n",
              "      <th>lag_10</th>\n",
              "      <th>lag_11</th>\n",
              "      <th>lag_12</th>\n",
              "      <th>resample_mean</th>\n",
              "    </tr>\n",
              "    <tr>\n",
              "      <th>datetime</th>\n",
              "      <th></th>\n",
              "      <th></th>\n",
              "      <th></th>\n",
              "      <th></th>\n",
              "      <th></th>\n",
              "      <th></th>\n",
              "      <th></th>\n",
              "      <th></th>\n",
              "      <th></th>\n",
              "      <th></th>\n",
              "      <th></th>\n",
              "      <th></th>\n",
              "      <th></th>\n",
              "      <th></th>\n",
              "      <th></th>\n",
              "      <th></th>\n",
              "      <th></th>\n",
              "      <th></th>\n",
              "    </tr>\n",
              "  </thead>\n",
              "  <tbody>\n",
              "    <tr>\n",
              "      <th>2018-03-01 12:00:00</th>\n",
              "      <td>30.0</td>\n",
              "      <td>3</td>\n",
              "      <td>1</td>\n",
              "      <td>12</td>\n",
              "      <td>3</td>\n",
              "      <td>96.0</td>\n",
              "      <td>64.0</td>\n",
              "      <td>69.0</td>\n",
              "      <td>34.0</td>\n",
              "      <td>15.0</td>\n",
              "      <td>12.0</td>\n",
              "      <td>6.0</td>\n",
              "      <td>43.0</td>\n",
              "      <td>66.0</td>\n",
              "      <td>71.0</td>\n",
              "      <td>85.0</td>\n",
              "      <td>124.0</td>\n",
              "      <td>96.0</td>\n",
              "    </tr>\n",
              "    <tr>\n",
              "      <th>2018-03-01 13:00:00</th>\n",
              "      <td>32.0</td>\n",
              "      <td>3</td>\n",
              "      <td>1</td>\n",
              "      <td>13</td>\n",
              "      <td>3</td>\n",
              "      <td>30.0</td>\n",
              "      <td>96.0</td>\n",
              "      <td>64.0</td>\n",
              "      <td>69.0</td>\n",
              "      <td>34.0</td>\n",
              "      <td>15.0</td>\n",
              "      <td>12.0</td>\n",
              "      <td>6.0</td>\n",
              "      <td>43.0</td>\n",
              "      <td>66.0</td>\n",
              "      <td>71.0</td>\n",
              "      <td>85.0</td>\n",
              "      <td>30.0</td>\n",
              "    </tr>\n",
              "    <tr>\n",
              "      <th>2018-03-01 14:00:00</th>\n",
              "      <td>48.0</td>\n",
              "      <td>3</td>\n",
              "      <td>1</td>\n",
              "      <td>14</td>\n",
              "      <td>3</td>\n",
              "      <td>32.0</td>\n",
              "      <td>30.0</td>\n",
              "      <td>96.0</td>\n",
              "      <td>64.0</td>\n",
              "      <td>69.0</td>\n",
              "      <td>34.0</td>\n",
              "      <td>15.0</td>\n",
              "      <td>12.0</td>\n",
              "      <td>6.0</td>\n",
              "      <td>43.0</td>\n",
              "      <td>66.0</td>\n",
              "      <td>71.0</td>\n",
              "      <td>32.0</td>\n",
              "    </tr>\n",
              "    <tr>\n",
              "      <th>2018-03-01 15:00:00</th>\n",
              "      <td>66.0</td>\n",
              "      <td>3</td>\n",
              "      <td>1</td>\n",
              "      <td>15</td>\n",
              "      <td>3</td>\n",
              "      <td>48.0</td>\n",
              "      <td>32.0</td>\n",
              "      <td>30.0</td>\n",
              "      <td>96.0</td>\n",
              "      <td>64.0</td>\n",
              "      <td>69.0</td>\n",
              "      <td>34.0</td>\n",
              "      <td>15.0</td>\n",
              "      <td>12.0</td>\n",
              "      <td>6.0</td>\n",
              "      <td>43.0</td>\n",
              "      <td>66.0</td>\n",
              "      <td>48.0</td>\n",
              "    </tr>\n",
              "    <tr>\n",
              "      <th>2018-03-01 16:00:00</th>\n",
              "      <td>43.0</td>\n",
              "      <td>3</td>\n",
              "      <td>1</td>\n",
              "      <td>16</td>\n",
              "      <td>3</td>\n",
              "      <td>66.0</td>\n",
              "      <td>48.0</td>\n",
              "      <td>32.0</td>\n",
              "      <td>30.0</td>\n",
              "      <td>96.0</td>\n",
              "      <td>64.0</td>\n",
              "      <td>69.0</td>\n",
              "      <td>34.0</td>\n",
              "      <td>15.0</td>\n",
              "      <td>12.0</td>\n",
              "      <td>6.0</td>\n",
              "      <td>43.0</td>\n",
              "      <td>66.0</td>\n",
              "    </tr>\n",
              "    <tr>\n",
              "      <th>...</th>\n",
              "      <td>...</td>\n",
              "      <td>...</td>\n",
              "      <td>...</td>\n",
              "      <td>...</td>\n",
              "      <td>...</td>\n",
              "      <td>...</td>\n",
              "      <td>...</td>\n",
              "      <td>...</td>\n",
              "      <td>...</td>\n",
              "      <td>...</td>\n",
              "      <td>...</td>\n",
              "      <td>...</td>\n",
              "      <td>...</td>\n",
              "      <td>...</td>\n",
              "      <td>...</td>\n",
              "      <td>...</td>\n",
              "      <td>...</td>\n",
              "      <td>...</td>\n",
              "    </tr>\n",
              "    <tr>\n",
              "      <th>2018-08-31 19:00:00</th>\n",
              "      <td>136.0</td>\n",
              "      <td>8</td>\n",
              "      <td>31</td>\n",
              "      <td>19</td>\n",
              "      <td>4</td>\n",
              "      <td>207.0</td>\n",
              "      <td>217.0</td>\n",
              "      <td>197.0</td>\n",
              "      <td>116.0</td>\n",
              "      <td>133.0</td>\n",
              "      <td>166.0</td>\n",
              "      <td>136.0</td>\n",
              "      <td>167.0</td>\n",
              "      <td>191.0</td>\n",
              "      <td>203.0</td>\n",
              "      <td>182.0</td>\n",
              "      <td>46.0</td>\n",
              "      <td>207.0</td>\n",
              "    </tr>\n",
              "    <tr>\n",
              "      <th>2018-08-31 20:00:00</th>\n",
              "      <td>154.0</td>\n",
              "      <td>8</td>\n",
              "      <td>31</td>\n",
              "      <td>20</td>\n",
              "      <td>4</td>\n",
              "      <td>136.0</td>\n",
              "      <td>207.0</td>\n",
              "      <td>217.0</td>\n",
              "      <td>197.0</td>\n",
              "      <td>116.0</td>\n",
              "      <td>133.0</td>\n",
              "      <td>166.0</td>\n",
              "      <td>136.0</td>\n",
              "      <td>167.0</td>\n",
              "      <td>191.0</td>\n",
              "      <td>203.0</td>\n",
              "      <td>182.0</td>\n",
              "      <td>136.0</td>\n",
              "    </tr>\n",
              "    <tr>\n",
              "      <th>2018-08-31 21:00:00</th>\n",
              "      <td>159.0</td>\n",
              "      <td>8</td>\n",
              "      <td>31</td>\n",
              "      <td>21</td>\n",
              "      <td>4</td>\n",
              "      <td>154.0</td>\n",
              "      <td>136.0</td>\n",
              "      <td>207.0</td>\n",
              "      <td>217.0</td>\n",
              "      <td>197.0</td>\n",
              "      <td>116.0</td>\n",
              "      <td>133.0</td>\n",
              "      <td>166.0</td>\n",
              "      <td>136.0</td>\n",
              "      <td>167.0</td>\n",
              "      <td>191.0</td>\n",
              "      <td>203.0</td>\n",
              "      <td>154.0</td>\n",
              "    </tr>\n",
              "    <tr>\n",
              "      <th>2018-08-31 22:00:00</th>\n",
              "      <td>223.0</td>\n",
              "      <td>8</td>\n",
              "      <td>31</td>\n",
              "      <td>22</td>\n",
              "      <td>4</td>\n",
              "      <td>159.0</td>\n",
              "      <td>154.0</td>\n",
              "      <td>136.0</td>\n",
              "      <td>207.0</td>\n",
              "      <td>217.0</td>\n",
              "      <td>197.0</td>\n",
              "      <td>116.0</td>\n",
              "      <td>133.0</td>\n",
              "      <td>166.0</td>\n",
              "      <td>136.0</td>\n",
              "      <td>167.0</td>\n",
              "      <td>191.0</td>\n",
              "      <td>159.0</td>\n",
              "    </tr>\n",
              "    <tr>\n",
              "      <th>2018-08-31 23:00:00</th>\n",
              "      <td>205.0</td>\n",
              "      <td>8</td>\n",
              "      <td>31</td>\n",
              "      <td>23</td>\n",
              "      <td>4</td>\n",
              "      <td>223.0</td>\n",
              "      <td>159.0</td>\n",
              "      <td>154.0</td>\n",
              "      <td>136.0</td>\n",
              "      <td>207.0</td>\n",
              "      <td>217.0</td>\n",
              "      <td>197.0</td>\n",
              "      <td>116.0</td>\n",
              "      <td>133.0</td>\n",
              "      <td>166.0</td>\n",
              "      <td>136.0</td>\n",
              "      <td>167.0</td>\n",
              "      <td>223.0</td>\n",
              "    </tr>\n",
              "  </tbody>\n",
              "</table>\n",
              "<p>4404 rows × 18 columns</p>\n",
              "</div>"
            ]
          },
          "metadata": {},
          "execution_count": 76
        }
      ],
      "source": [
        "_df"
      ]
    },
    {
      "cell_type": "code",
      "execution_count": null,
      "metadata": {
        "id": "ppsxau7zZDLd"
      },
      "outputs": [],
      "source": [
        "train, test = train_test_split(_df, shuffle=False, test_size=0.1)\n",
        "\n",
        "\n",
        "x_train = train.drop(columns='resample_sum')\n",
        "y_train = train['resample_sum']\n",
        "\n",
        "x_test = test.drop(columns='resample_sum')\n",
        "y_test = test['resample_sum']\n",
        "\n"
      ]
    },
    {
      "cell_type": "code",
      "execution_count": null,
      "metadata": {
        "id": "cS6_qQQiZDLm"
      },
      "outputs": [],
      "source": [
        "def def_RandomizedSearchCV(model_name,param_grid):\n",
        "    randomized_search = RandomizedSearchCV(\n",
        "        model_name,\n",
        "        param_grid,\n",
        "        cv=TimeSeriesSplit(n_splits=5),\n",
        "        scoring='neg_root_mean_squared_error',\n",
        "        n_jobs=-1\n",
        "    )\n",
        "    # фиксируем время старта работы кода\n",
        "    start = time.time()\n",
        "    randomized_search.fit(x_train, y_train)\n",
        "    best_rmse = abs(round(randomized_search.best_score_, 1))\n",
        "    display(f'модель                           : {randomized_search.best_estimator_}')\n",
        "    display(f'параметры                        : {randomized_search.best_params_}')\n",
        "    display(f'время работы  RandomizedSearchCV : {str(time.time() - start)}')\n",
        "    display(f'RMSE                             : {best_rmse}')\n",
        "\n",
        "    # фиксируем время старта работы кода\n",
        "    start = time.time()\n",
        "    randomized_search.best_estimator_.fit(x_train, y_train)\n",
        "    display(f'время обучения fit               : {str(time.time() - start)}')\n",
        "    # фиксируем время старта работы кода\n",
        "    start = time.time()\n",
        "    y_pred = randomized_search.best_estimator_.predict(x_train)\n",
        "    display(f'RMSE predict на тренеровочных    : {mean_squared_error(y_train, y_pred,squared=False)}')\n",
        "    display(f'время предсказания               : {str(time.time() - start)}')"
      ]
    },
    {
      "cell_type": "code",
      "execution_count": null,
      "metadata": {
        "colab": {
          "base_uri": "https://localhost:8080/",
          "height": 173
        },
        "id": "OQab3D61ZDLn",
        "outputId": "60e24247-d1d1-4aae-8928-ffc5442d0b39"
      },
      "outputs": [
        {
          "output_type": "display_data",
          "data": {
            "text/plain": [
              "'модель                           : DecisionTreeRegressor(max_depth=15, max_features=21, min_samples_leaf=10,\\n                      min_samples_split=14, random_state=12345)'"
            ]
          },
          "metadata": {}
        },
        {
          "output_type": "display_data",
          "data": {
            "text/plain": [
              "\"параметры                        : {'min_samples_split': 14, 'min_samples_leaf': 10, 'max_features': 21, 'max_depth': 15}\""
            ]
          },
          "metadata": {}
        },
        {
          "output_type": "display_data",
          "data": {
            "text/plain": [
              "'время работы  RandomizedSearchCV : 0.10514259338378906'"
            ]
          },
          "metadata": {}
        },
        {
          "output_type": "display_data",
          "data": {
            "text/plain": [
              "'RMSE                             : 29.2'"
            ]
          },
          "metadata": {}
        },
        {
          "output_type": "display_data",
          "data": {
            "text/plain": [
              "'время обучения fit               : 0.02093362808227539'"
            ]
          },
          "metadata": {}
        },
        {
          "output_type": "display_data",
          "data": {
            "text/plain": [
              "'RMSE predict на тренеровочных    : 18.499361533416018'"
            ]
          },
          "metadata": {}
        },
        {
          "output_type": "display_data",
          "data": {
            "text/plain": [
              "'время предсказания               : 0.0013349056243896484'"
            ]
          },
          "metadata": {}
        }
      ],
      "source": [
        "param_grid = {'max_depth': range(2,24),\n",
        "        'max_features': range(2,24),\n",
        "        'min_samples_split': range(2,24),\n",
        "        'min_samples_leaf': range(2,24)}\n",
        "\n",
        "model_name = DecisionTreeRegressor(random_state=12345)\n",
        "\n",
        "def_RandomizedSearchCV(model_name,param_grid)"
      ]
    },
    {
      "cell_type": "code",
      "execution_count": null,
      "metadata": {
        "colab": {
          "base_uri": "https://localhost:8080/",
          "height": 138
        },
        "id": "ar-jOHeYZDLn",
        "outputId": "b775dee7-3db7-44d0-db56-5ead2d8f10ce"
      },
      "outputs": [
        {
          "output_type": "display_data",
          "data": {
            "text/plain": [
              "'модель                           : LinearRegression(n_jobs=1)'"
            ]
          },
          "metadata": {}
        },
        {
          "output_type": "display_data",
          "data": {
            "text/plain": [
              "\"параметры                        : {'n_jobs': 1}\""
            ]
          },
          "metadata": {}
        },
        {
          "output_type": "display_data",
          "data": {
            "text/plain": [
              "'время работы  RandomizedSearchCV : 0.030370235443115234'"
            ]
          },
          "metadata": {}
        },
        {
          "output_type": "display_data",
          "data": {
            "text/plain": [
              "'RMSE                             : 31.4'"
            ]
          },
          "metadata": {}
        },
        {
          "output_type": "display_data",
          "data": {
            "text/plain": [
              "'время обучения fit               : 0.002159595489501953'"
            ]
          },
          "metadata": {}
        },
        {
          "output_type": "display_data",
          "data": {
            "text/plain": [
              "'RMSE predict на тренеровочных    : 30.087249733780148'"
            ]
          },
          "metadata": {}
        },
        {
          "output_type": "display_data",
          "data": {
            "text/plain": [
              "'время предсказания               : 0.002000093460083008'"
            ]
          },
          "metadata": {}
        }
      ],
      "source": [
        "param_grid = {'n_jobs': [1, -1]}\n",
        "\n",
        "model_name = LinearRegression()\n",
        "\n",
        "def_RandomizedSearchCV(model_name,param_grid)"
      ]
    },
    {
      "cell_type": "code",
      "execution_count": null,
      "metadata": {
        "colab": {
          "base_uri": "https://localhost:8080/",
          "height": 312
        },
        "id": "WT2yTZBFZDLo",
        "outputId": "dfa1b5d6-71ac-4cdb-d5de-25cc6d7ca1bf"
      },
      "outputs": [
        {
          "output_type": "stream",
          "name": "stdout",
          "text": [
            "[LightGBM] [Info] Auto-choosing col-wise multi-threading, the overhead of testing was 0.000221 seconds.\n",
            "You can set `force_col_wise=true` to remove the overhead.\n",
            "[LightGBM] [Info] Total Bins 2540\n",
            "[LightGBM] [Info] Number of data points in the train set: 3963, number of used features: 17\n",
            "[LightGBM] [Info] Start training from score 78.360838\n"
          ]
        },
        {
          "output_type": "display_data",
          "data": {
            "text/plain": [
              "'модель                           : LGBMRegressor(num_leaves=15, random_state=12345)'"
            ]
          },
          "metadata": {}
        },
        {
          "output_type": "display_data",
          "data": {
            "text/plain": [
              "\"параметры                        : {'num_leaves': 15, 'boosting_type': 'gbdt'}\""
            ]
          },
          "metadata": {}
        },
        {
          "output_type": "display_data",
          "data": {
            "text/plain": [
              "'время работы  RandomizedSearchCV : 3.99893856048584'"
            ]
          },
          "metadata": {}
        },
        {
          "output_type": "display_data",
          "data": {
            "text/plain": [
              "'RMSE                             : 24.9'"
            ]
          },
          "metadata": {}
        },
        {
          "output_type": "stream",
          "name": "stdout",
          "text": [
            "[LightGBM] [Info] Auto-choosing col-wise multi-threading, the overhead of testing was 0.000259 seconds.\n",
            "You can set `force_col_wise=true` to remove the overhead.\n",
            "[LightGBM] [Info] Total Bins 2540\n",
            "[LightGBM] [Info] Number of data points in the train set: 3963, number of used features: 17\n",
            "[LightGBM] [Info] Start training from score 78.360838\n"
          ]
        },
        {
          "output_type": "display_data",
          "data": {
            "text/plain": [
              "'время обучения fit               : 0.03072500228881836'"
            ]
          },
          "metadata": {}
        },
        {
          "output_type": "display_data",
          "data": {
            "text/plain": [
              "'RMSE predict на тренеровочных    : 17.0548763070377'"
            ]
          },
          "metadata": {}
        },
        {
          "output_type": "display_data",
          "data": {
            "text/plain": [
              "'время предсказания               : 0.003013134002685547'"
            ]
          },
          "metadata": {}
        }
      ],
      "source": [
        "param_grid = {'boosting_type': ['gbdt'],'num_leaves':[15,20]}\n",
        "\n",
        "model_name = LGBMRegressor(random_state=12345)\n",
        "\n",
        "def_RandomizedSearchCV(model_name,param_grid)"
      ]
    },
    {
      "cell_type": "code",
      "execution_count": null,
      "metadata": {
        "colab": {
          "base_uri": "https://localhost:8080/",
          "height": 138
        },
        "id": "5Np3eY9QZDLo",
        "outputId": "d66072b0-bb7a-4f4c-d8bf-50176d209a16"
      },
      "outputs": [
        {
          "output_type": "display_data",
          "data": {
            "text/plain": [
              "'модель                           : <catboost.core.CatBoostRegressor object at 0x000001B654207550>'"
            ]
          },
          "metadata": {}
        },
        {
          "output_type": "display_data",
          "data": {
            "text/plain": [
              "\"параметры                        : {'grow_policy': 'Lossguide', 'depth': 10}\""
            ]
          },
          "metadata": {}
        },
        {
          "output_type": "display_data",
          "data": {
            "text/plain": [
              "'время работы  RandomizedSearchCV : 8.085861921310425'"
            ]
          },
          "metadata": {}
        },
        {
          "output_type": "display_data",
          "data": {
            "text/plain": [
              "'RMSE                             : 24.9'"
            ]
          },
          "metadata": {}
        },
        {
          "output_type": "display_data",
          "data": {
            "text/plain": [
              "'время обучения fit               : 3.1361536979675293'"
            ]
          },
          "metadata": {}
        },
        {
          "output_type": "display_data",
          "data": {
            "text/plain": [
              "'RMSE predict на тренеровочных    : 6.320551872037783'"
            ]
          },
          "metadata": {}
        },
        {
          "output_type": "display_data",
          "data": {
            "text/plain": [
              "'время предсказания               : 0.009739398956298828'"
            ]
          },
          "metadata": {}
        }
      ],
      "source": [
        "param_grid = {'grow_policy': ['Lossguide'],'depth': [10]}\n",
        "\n",
        "model_name = CatBoostRegressor(random_state=12345, verbose=False)\n",
        "\n",
        "def_RandomizedSearchCV(model_name,param_grid)\n"
      ]
    },
    {
      "cell_type": "markdown",
      "metadata": {
        "id": "0fLS64mvZDLp"
      },
      "source": [
        "## Тестирование"
      ]
    },
    {
      "cell_type": "code",
      "execution_count": null,
      "metadata": {
        "scrolled": false,
        "colab": {
          "base_uri": "https://localhost:8080/",
          "height": 69
        },
        "id": "5-1mYzxOZDLp",
        "outputId": "0e8ac5e3-c18e-4923-dd75-c52d550cc4a5"
      },
      "outputs": [
        {
          "output_type": "display_data",
          "data": {
            "text/plain": [
              "'время работы fit     : 3.1242287158966064'"
            ]
          },
          "metadata": {}
        },
        {
          "output_type": "display_data",
          "data": {
            "text/plain": [
              "'Время работы predict : 0.0050008296966552734'"
            ]
          },
          "metadata": {}
        },
        {
          "output_type": "display_data",
          "data": {
            "text/plain": [
              "'SMAPE                : 42.82752712502176'"
            ]
          },
          "metadata": {}
        }
      ],
      "source": [
        "# фиксируем время старта работы кода\n",
        "start = time.time()\n",
        "model = CatBoostRegressor(random_state=12345, verbose=False, grow_policy = 'Lossguide', depth = 10)\n",
        "model.fit(x_train,y_train)\n",
        "display(f'время работы fit     : ' + str(time.time() - start))\n",
        "# фиксируем время старта работы кода\n",
        "start = time.time()\n",
        "#str_cross_val_score = cross_val_score(model,\n",
        "#                x_test,\n",
        "#                y_test,\n",
        "#                cv=TimeSeriesSplit(n_splits=5),\n",
        "#                scoring = \"neg_root_mean_squared_error\").mean()*-1\n",
        "\n",
        "y_pred = model.predict(x_test)\n",
        "display(f'Время работы predict : {str(time.time() - start)}')\n",
        "display(f'SMAPE                : {mean_squared_error(y_test, y_pred, squared=False)}')"
      ]
    },
    {
      "cell_type": "code",
      "execution_count": null,
      "metadata": {
        "colab": {
          "base_uri": "https://localhost:8080/",
          "height": 227
        },
        "id": "WAIhDgYtZDLp",
        "outputId": "02fd6a80-4b15-4dbf-e019-5e0b0c324971"
      },
      "outputs": [
        {
          "output_type": "display_data",
          "data": {
            "text/plain": [
              "<Figure size 2000x400 with 1 Axes>"
            ],
            "image/png": "[encoded data removed]"
          },
          "metadata": {}
        }
      ],
      "source": [
        "result = pd.DataFrame({'y_test': y_test, 'y_pred': y_pred})\n",
        "result.plot(title='Работа модели : CatBoostRegressor',figsize=(20, 4))\n",
        "plt.xlabel( 'даты')\n",
        "plt.ylabel('количество заказов')\n",
        "plt.legend(['истинные', 'предсказанные'])\n",
        "plt.show()\n"
      ]
    },
    {
      "cell_type": "markdown",
      "metadata": {
        "id": "27H-RuBaZDLr"
      },
      "source": [
        "**Вывод:**\n",
        "\n",
        "* Здесь представлено решение  по создании модели МО для прогнозирования количества заказов такси на следующий час.\n",
        "* Было использован набор данных за неполный год осень и лето 2018 года\n",
        "* В данной задачи модель CatBoostRegressor   показала себя наилучшим образом.\n"
      ]
    },
    {
      "cell_type": "code",
      "execution_count": null,
      "metadata": {
        "id": "deuxfM1OZDLt",
        "colab": {
          "base_uri": "https://localhost:8080/"
        },
        "outputId": "dc4051e1-2309-4554-a08a-071e96835ac3"
      },
      "outputs": [
        {
          "output_type": "execute_result",
          "data": {
            "text/plain": [
              "'end'"
            ]
          },
          "metadata": {},
          "execution_count": 85
        }
      ],
      "source": [
        "'end'"
      ]
    }
  ],
  "metadata": {
    "ExecuteTimeLog": [
      {
        "duration": 438,
        "start_time": "2024-04-25T10:57:28.840Z"
      },
      {
        "duration": 2,
        "start_time": "2024-04-25T10:58:13.355Z"
      },
      {
        "duration": 65,
        "start_time": "2024-04-25T10:58:24.494Z"
      },
      {
        "duration": 14,
        "start_time": "2024-04-25T10:58:32.806Z"
      },
      {
        "duration": 44,
        "start_time": "2024-04-25T10:58:54.527Z"
      },
      {
        "duration": 93,
        "start_time": "2024-04-25T10:58:58.218Z"
      },
      {
        "duration": 50,
        "start_time": "2024-04-25T10:59:20.228Z"
      },
      {
        "duration": 52,
        "start_time": "2024-04-25T10:59:45.370Z"
      },
      {
        "duration": 42,
        "start_time": "2024-04-25T10:59:51.836Z"
      },
      {
        "duration": 13,
        "start_time": "2024-04-25T11:00:05.287Z"
      },
      {
        "duration": 175,
        "start_time": "2024-04-25T11:00:08.896Z"
      },
      {
        "duration": 56,
        "start_time": "2024-04-25T11:01:22.333Z"
      },
      {
        "duration": 6,
        "start_time": "2024-04-25T11:02:17.591Z"
      },
      {
        "duration": 9,
        "start_time": "2024-04-25T11:02:42.223Z"
      },
      {
        "duration": 390,
        "start_time": "2024-04-25T11:03:11.810Z"
      },
      {
        "duration": 5,
        "start_time": "2024-04-25T11:03:13.610Z"
      },
      {
        "duration": 332,
        "start_time": "2024-04-25T11:03:18.282Z"
      },
      {
        "duration": 73,
        "start_time": "2024-04-25T11:04:15.440Z"
      },
      {
        "duration": 279,
        "start_time": "2024-04-25T11:04:20.888Z"
      },
      {
        "duration": 294,
        "start_time": "2024-04-25T11:04:45.470Z"
      },
      {
        "duration": 6,
        "start_time": "2024-04-25T11:10:39.027Z"
      },
      {
        "duration": 5,
        "start_time": "2024-04-25T11:10:47.847Z"
      },
      {
        "duration": 4,
        "start_time": "2024-04-25T11:10:59.585Z"
      },
      {
        "duration": 328,
        "start_time": "2024-04-25T11:11:03.754Z"
      },
      {
        "duration": 298,
        "start_time": "2024-04-25T11:11:29.422Z"
      },
      {
        "duration": 239,
        "start_time": "2024-04-25T11:11:48.515Z"
      },
      {
        "duration": 276,
        "start_time": "2024-04-25T11:12:06.905Z"
      },
      {
        "duration": 319,
        "start_time": "2024-04-25T11:14:40.665Z"
      },
      {
        "duration": 288,
        "start_time": "2024-04-25T11:14:59.179Z"
      },
      {
        "duration": 4,
        "start_time": "2024-04-25T11:17:28.694Z"
      },
      {
        "duration": 334,
        "start_time": "2024-04-25T11:17:36.747Z"
      },
      {
        "duration": 282,
        "start_time": "2024-04-25T11:17:44.491Z"
      },
      {
        "duration": 297,
        "start_time": "2024-04-25T11:17:51.447Z"
      },
      {
        "duration": 3,
        "start_time": "2024-04-25T11:18:19.262Z"
      },
      {
        "duration": 4,
        "start_time": "2024-04-25T11:18:29.353Z"
      },
      {
        "duration": 325,
        "start_time": "2024-04-25T11:18:45.149Z"
      },
      {
        "duration": 282,
        "start_time": "2024-04-25T11:19:05.304Z"
      },
      {
        "duration": 59,
        "start_time": "2024-04-25T11:19:16.226Z"
      },
      {
        "duration": 362,
        "start_time": "2024-04-25T11:19:20.812Z"
      },
      {
        "duration": 253,
        "start_time": "2024-04-25T11:19:34.611Z"
      },
      {
        "duration": 239,
        "start_time": "2024-04-25T11:19:48.518Z"
      },
      {
        "duration": 263,
        "start_time": "2024-04-25T11:19:54.802Z"
      },
      {
        "duration": 299,
        "start_time": "2024-04-25T11:20:23.455Z"
      },
      {
        "duration": 282,
        "start_time": "2024-04-25T11:20:31.318Z"
      },
      {
        "duration": 265,
        "start_time": "2024-04-25T11:20:44.910Z"
      },
      {
        "duration": 1163,
        "start_time": "2024-04-25T11:21:40.896Z"
      },
      {
        "duration": 255,
        "start_time": "2024-04-25T11:22:18.107Z"
      },
      {
        "duration": 6,
        "start_time": "2024-04-25T11:22:31.242Z"
      },
      {
        "duration": 1211,
        "start_time": "2024-04-25T11:22:46.611Z"
      },
      {
        "duration": 5,
        "start_time": "2024-04-25T11:23:05.893Z"
      },
      {
        "duration": 7,
        "start_time": "2024-04-25T11:23:25.743Z"
      },
      {
        "duration": 7,
        "start_time": "2024-04-25T11:24:50.822Z"
      },
      {
        "duration": 7,
        "start_time": "2024-04-25T11:25:13.914Z"
      },
      {
        "duration": 6,
        "start_time": "2024-04-25T11:25:31.035Z"
      },
      {
        "duration": 1203,
        "start_time": "2024-04-25T11:26:14.482Z"
      },
      {
        "duration": 9,
        "start_time": "2024-04-25T11:26:26.455Z"
      },
      {
        "duration": 8,
        "start_time": "2024-04-25T11:26:35.619Z"
      },
      {
        "duration": 5,
        "start_time": "2024-04-25T11:26:43.213Z"
      },
      {
        "duration": 7,
        "start_time": "2024-04-25T11:28:15.412Z"
      },
      {
        "duration": 8,
        "start_time": "2024-04-25T11:28:35.724Z"
      },
      {
        "duration": 8,
        "start_time": "2024-04-25T11:29:44.813Z"
      },
      {
        "duration": 88,
        "start_time": "2024-04-25T11:29:53.005Z"
      },
      {
        "duration": 549,
        "start_time": "2024-04-25T11:30:04.990Z"
      },
      {
        "duration": 269,
        "start_time": "2024-04-25T11:30:33.380Z"
      },
      {
        "duration": 18,
        "start_time": "2024-04-25T11:31:51.578Z"
      },
      {
        "duration": 14,
        "start_time": "2024-04-25T11:31:54.818Z"
      },
      {
        "duration": 230,
        "start_time": "2024-04-25T11:31:59.523Z"
      },
      {
        "duration": 6,
        "start_time": "2024-04-25T11:32:54.087Z"
      },
      {
        "duration": 7,
        "start_time": "2024-04-25T11:33:07.733Z"
      },
      {
        "duration": 4,
        "start_time": "2024-04-25T11:33:15.221Z"
      },
      {
        "duration": 4,
        "start_time": "2024-04-25T11:34:12.952Z"
      },
      {
        "duration": 7,
        "start_time": "2024-04-25T11:34:29.946Z"
      },
      {
        "duration": 149,
        "start_time": "2024-04-25T11:34:51.954Z"
      },
      {
        "duration": 137,
        "start_time": "2024-04-25T11:35:10.182Z"
      },
      {
        "duration": 139,
        "start_time": "2024-04-25T11:35:23.955Z"
      },
      {
        "duration": 3,
        "start_time": "2024-04-25T11:36:31.011Z"
      },
      {
        "duration": 137,
        "start_time": "2024-04-25T11:36:52.308Z"
      },
      {
        "duration": 6,
        "start_time": "2024-04-25T11:38:57.221Z"
      },
      {
        "duration": 4,
        "start_time": "2024-04-25T11:39:26.539Z"
      },
      {
        "duration": 7,
        "start_time": "2024-04-25T11:39:42.934Z"
      },
      {
        "duration": 20,
        "start_time": "2024-04-25T11:45:05.293Z"
      },
      {
        "duration": 17,
        "start_time": "2024-04-25T11:45:14.009Z"
      },
      {
        "duration": 12,
        "start_time": "2024-04-25T11:49:01.530Z"
      },
      {
        "duration": 73,
        "start_time": "2024-04-25T11:50:25.727Z"
      },
      {
        "duration": 21,
        "start_time": "2024-04-25T11:50:31.294Z"
      },
      {
        "duration": 8,
        "start_time": "2024-04-25T11:51:53.975Z"
      },
      {
        "duration": 7,
        "start_time": "2024-04-25T11:52:05.235Z"
      },
      {
        "duration": 28,
        "start_time": "2024-04-25T11:52:43.567Z"
      },
      {
        "duration": 12,
        "start_time": "2024-04-25T11:59:14.600Z"
      },
      {
        "duration": 11,
        "start_time": "2024-04-25T11:59:47.238Z"
      },
      {
        "duration": 8,
        "start_time": "2024-04-25T12:00:42.593Z"
      },
      {
        "duration": 72,
        "start_time": "2024-04-25T12:02:50.865Z"
      },
      {
        "duration": 11,
        "start_time": "2024-04-25T12:03:43.805Z"
      },
      {
        "duration": 8,
        "start_time": "2024-04-25T12:19:35.284Z"
      },
      {
        "duration": 7,
        "start_time": "2024-04-25T12:19:44.754Z"
      },
      {
        "duration": 68,
        "start_time": "2024-04-25T12:19:55.803Z"
      },
      {
        "duration": 73,
        "start_time": "2024-04-25T12:20:02.926Z"
      },
      {
        "duration": 7,
        "start_time": "2024-04-25T12:20:06.691Z"
      },
      {
        "duration": 12,
        "start_time": "2024-04-25T12:20:15.166Z"
      },
      {
        "duration": 13,
        "start_time": "2024-04-25T12:20:23.563Z"
      },
      {
        "duration": 13,
        "start_time": "2024-04-25T12:20:34.738Z"
      },
      {
        "duration": 10,
        "start_time": "2024-04-25T12:20:43.068Z"
      },
      {
        "duration": 4,
        "start_time": "2024-04-25T12:20:49.967Z"
      },
      {
        "duration": 7,
        "start_time": "2024-04-25T12:21:03.339Z"
      },
      {
        "duration": 10,
        "start_time": "2024-04-25T12:21:08.965Z"
      },
      {
        "duration": 6,
        "start_time": "2024-04-25T12:21:13.978Z"
      },
      {
        "duration": 7,
        "start_time": "2024-04-25T12:21:20.139Z"
      },
      {
        "duration": 4,
        "start_time": "2024-04-25T12:21:25.981Z"
      },
      {
        "duration": 16,
        "start_time": "2024-04-25T12:21:37.446Z"
      },
      {
        "duration": 5,
        "start_time": "2024-04-25T12:21:41.439Z"
      },
      {
        "duration": 14,
        "start_time": "2024-04-25T12:21:47.586Z"
      },
      {
        "duration": 7,
        "start_time": "2024-04-25T12:22:11.101Z"
      },
      {
        "duration": 7,
        "start_time": "2024-04-25T12:22:18.514Z"
      },
      {
        "duration": 8,
        "start_time": "2024-04-25T12:22:31.966Z"
      },
      {
        "duration": 4,
        "start_time": "2024-04-25T12:22:39.951Z"
      },
      {
        "duration": 4,
        "start_time": "2024-04-25T12:22:48.398Z"
      },
      {
        "duration": 9,
        "start_time": "2024-04-25T12:24:50.311Z"
      },
      {
        "duration": 8,
        "start_time": "2024-04-25T12:25:37.438Z"
      },
      {
        "duration": 4,
        "start_time": "2024-04-25T12:26:29.714Z"
      },
      {
        "duration": 4,
        "start_time": "2024-04-25T12:27:15.148Z"
      },
      {
        "duration": 3,
        "start_time": "2024-04-25T12:27:26.022Z"
      },
      {
        "duration": 4,
        "start_time": "2024-04-25T12:27:39.965Z"
      },
      {
        "duration": 4,
        "start_time": "2024-04-25T12:27:44.320Z"
      },
      {
        "duration": 4,
        "start_time": "2024-04-25T12:27:52.244Z"
      },
      {
        "duration": 4,
        "start_time": "2024-04-25T12:27:57.942Z"
      },
      {
        "duration": 4,
        "start_time": "2024-04-25T12:28:07.204Z"
      },
      {
        "duration": 4,
        "start_time": "2024-04-25T12:29:36.826Z"
      },
      {
        "duration": 4,
        "start_time": "2024-04-25T12:29:47.956Z"
      },
      {
        "duration": 11,
        "start_time": "2024-04-25T12:30:06.169Z"
      },
      {
        "duration": 7,
        "start_time": "2024-04-25T12:30:37.052Z"
      },
      {
        "duration": 7,
        "start_time": "2024-04-25T12:30:40.501Z"
      },
      {
        "duration": 10,
        "start_time": "2024-04-25T12:30:48.153Z"
      },
      {
        "duration": 9,
        "start_time": "2024-04-25T12:31:25.574Z"
      },
      {
        "duration": 3,
        "start_time": "2024-04-25T12:32:30.358Z"
      },
      {
        "duration": 9,
        "start_time": "2024-04-25T12:32:39.775Z"
      },
      {
        "duration": 5,
        "start_time": "2024-04-25T12:32:54.849Z"
      },
      {
        "duration": 7,
        "start_time": "2024-04-25T12:33:08.840Z"
      },
      {
        "duration": 4,
        "start_time": "2024-04-25T12:33:32.675Z"
      },
      {
        "duration": 146,
        "start_time": "2024-04-25T12:33:40.463Z"
      },
      {
        "duration": 113,
        "start_time": "2024-04-25T12:33:50.738Z"
      },
      {
        "duration": 4,
        "start_time": "2024-04-25T12:33:57.921Z"
      },
      {
        "duration": 118,
        "start_time": "2024-04-25T12:34:16.831Z"
      },
      {
        "duration": 14,
        "start_time": "2024-04-25T12:34:19.704Z"
      },
      {
        "duration": 130,
        "start_time": "2024-04-25T12:35:37.969Z"
      },
      {
        "duration": 123,
        "start_time": "2024-04-25T12:35:46.657Z"
      },
      {
        "duration": 167,
        "start_time": "2024-04-25T12:36:03.357Z"
      },
      {
        "duration": 162,
        "start_time": "2024-04-25T12:36:17.690Z"
      },
      {
        "duration": 161,
        "start_time": "2024-04-25T12:36:28.585Z"
      },
      {
        "duration": 10,
        "start_time": "2024-04-25T12:42:02.812Z"
      },
      {
        "duration": 3,
        "start_time": "2024-04-25T12:42:07.192Z"
      },
      {
        "duration": 17,
        "start_time": "2024-04-25T12:47:45.840Z"
      },
      {
        "duration": 5,
        "start_time": "2024-04-25T12:47:48.377Z"
      },
      {
        "duration": 164,
        "start_time": "2024-04-25T12:47:52.034Z"
      },
      {
        "duration": 4,
        "start_time": "2024-04-25T13:29:06.433Z"
      },
      {
        "duration": 1295,
        "start_time": "2024-04-25T13:29:24.320Z"
      },
      {
        "duration": 3,
        "start_time": "2024-04-25T13:30:18.670Z"
      },
      {
        "duration": 7,
        "start_time": "2024-04-25T13:30:21.893Z"
      },
      {
        "duration": 17,
        "start_time": "2024-04-25T13:30:29.864Z"
      },
      {
        "duration": 8,
        "start_time": "2024-04-25T13:37:25.306Z"
      },
      {
        "duration": 19,
        "start_time": "2024-04-25T13:37:31.292Z"
      },
      {
        "duration": 1488,
        "start_time": "2024-04-25T13:39:07.781Z"
      },
      {
        "duration": 7,
        "start_time": "2024-04-25T13:39:34.563Z"
      },
      {
        "duration": 5,
        "start_time": "2024-04-25T13:39:39.494Z"
      },
      {
        "duration": 4,
        "start_time": "2024-04-25T13:39:44.838Z"
      },
      {
        "duration": 1116,
        "start_time": "2024-04-25T13:39:52.605Z"
      },
      {
        "duration": 3,
        "start_time": "2024-04-25T13:41:46.611Z"
      },
      {
        "duration": 14,
        "start_time": "2024-04-25T13:41:49.558Z"
      },
      {
        "duration": 4,
        "start_time": "2024-04-25T13:42:06.614Z"
      },
      {
        "duration": 12,
        "start_time": "2024-04-25T13:42:09.800Z"
      },
      {
        "duration": 3,
        "start_time": "2024-04-25T13:45:55.123Z"
      },
      {
        "duration": 1558,
        "start_time": "2024-04-25T13:45:58.272Z"
      },
      {
        "duration": 4,
        "start_time": "2024-04-25T13:46:48.851Z"
      },
      {
        "duration": 1146,
        "start_time": "2024-04-25T13:46:51.631Z"
      },
      {
        "duration": 50,
        "start_time": "2024-04-25T13:48:30.048Z"
      },
      {
        "duration": 61,
        "start_time": "2024-04-25T13:48:41.873Z"
      },
      {
        "duration": 53,
        "start_time": "2024-04-25T13:49:25.545Z"
      },
      {
        "duration": 3,
        "start_time": "2024-04-25T13:52:49.622Z"
      },
      {
        "duration": 15,
        "start_time": "2024-04-25T13:52:49.628Z"
      },
      {
        "duration": 104,
        "start_time": "2024-04-25T13:52:49.645Z"
      },
      {
        "duration": 287,
        "start_time": "2024-04-25T13:52:49.750Z"
      },
      {
        "duration": 318,
        "start_time": "2024-04-25T13:52:50.039Z"
      },
      {
        "duration": 297,
        "start_time": "2024-04-25T13:52:50.359Z"
      },
      {
        "duration": 5,
        "start_time": "2024-04-25T13:52:50.658Z"
      },
      {
        "duration": 20,
        "start_time": "2024-04-25T13:52:50.664Z"
      },
      {
        "duration": 42,
        "start_time": "2024-04-25T13:52:50.685Z"
      },
      {
        "duration": 10,
        "start_time": "2024-04-25T13:52:50.728Z"
      },
      {
        "duration": 16,
        "start_time": "2024-04-25T13:52:50.739Z"
      },
      {
        "duration": 161,
        "start_time": "2024-04-25T13:52:50.756Z"
      },
      {
        "duration": 3,
        "start_time": "2024-04-25T13:52:50.919Z"
      },
      {
        "duration": 50,
        "start_time": "2024-04-25T13:52:50.923Z"
      },
      {
        "duration": 4,
        "start_time": "2024-04-25T13:52:58.470Z"
      },
      {
        "duration": 4,
        "start_time": "2024-04-25T13:53:34.388Z"
      },
      {
        "duration": 14,
        "start_time": "2024-04-25T13:53:37.200Z"
      },
      {
        "duration": 3,
        "start_time": "2024-04-25T13:54:42.985Z"
      },
      {
        "duration": 9,
        "start_time": "2024-04-25T13:54:45.315Z"
      },
      {
        "duration": 5,
        "start_time": "2024-04-25T13:54:47.967Z"
      },
      {
        "duration": 3,
        "start_time": "2024-04-25T13:55:02.343Z"
      },
      {
        "duration": 16,
        "start_time": "2024-04-25T13:55:05.105Z"
      },
      {
        "duration": 16,
        "start_time": "2024-04-25T13:55:10.998Z"
      },
      {
        "duration": 4,
        "start_time": "2024-04-25T13:55:14.954Z"
      },
      {
        "duration": 6,
        "start_time": "2024-04-25T13:55:33.835Z"
      },
      {
        "duration": 5,
        "start_time": "2024-04-25T13:57:02.617Z"
      },
      {
        "duration": 4,
        "start_time": "2024-04-25T14:04:23.929Z"
      },
      {
        "duration": 2,
        "start_time": "2024-04-25T14:10:06.533Z"
      },
      {
        "duration": 56,
        "start_time": "2024-04-25T14:10:06.537Z"
      },
      {
        "duration": 104,
        "start_time": "2024-04-25T14:10:06.595Z"
      },
      {
        "duration": 252,
        "start_time": "2024-04-25T14:10:06.701Z"
      },
      {
        "duration": 291,
        "start_time": "2024-04-25T14:10:06.955Z"
      },
      {
        "duration": 323,
        "start_time": "2024-04-25T14:10:07.247Z"
      },
      {
        "duration": 4,
        "start_time": "2024-04-25T14:10:07.572Z"
      },
      {
        "duration": 37,
        "start_time": "2024-04-25T14:10:07.578Z"
      },
      {
        "duration": 62,
        "start_time": "2024-04-25T14:10:07.616Z"
      },
      {
        "duration": 46,
        "start_time": "2024-04-25T14:10:07.679Z"
      },
      {
        "duration": 36,
        "start_time": "2024-04-25T14:10:07.727Z"
      },
      {
        "duration": 182,
        "start_time": "2024-04-25T14:10:07.765Z"
      },
      {
        "duration": 3,
        "start_time": "2024-04-25T14:10:07.949Z"
      },
      {
        "duration": 77,
        "start_time": "2024-04-25T14:10:07.953Z"
      },
      {
        "duration": 0,
        "start_time": "2024-04-25T14:10:08.031Z"
      },
      {
        "duration": 0,
        "start_time": "2024-04-25T14:10:08.033Z"
      },
      {
        "duration": 0,
        "start_time": "2024-04-25T14:10:08.034Z"
      },
      {
        "duration": 74,
        "start_time": "2024-04-25T14:10:28.649Z"
      },
      {
        "duration": 1181,
        "start_time": "2024-04-25T14:10:43.230Z"
      },
      {
        "duration": 4,
        "start_time": "2024-04-25T14:11:00.698Z"
      },
      {
        "duration": 1238,
        "start_time": "2024-04-25T14:12:03.603Z"
      },
      {
        "duration": 6122,
        "start_time": "2024-04-25T14:13:12.963Z"
      },
      {
        "duration": 13,
        "start_time": "2024-04-25T14:15:54.134Z"
      },
      {
        "duration": 4,
        "start_time": "2024-04-25T14:16:19.146Z"
      },
      {
        "duration": 18,
        "start_time": "2024-04-25T14:16:57.990Z"
      },
      {
        "duration": 17,
        "start_time": "2024-04-25T14:17:43.018Z"
      },
      {
        "duration": 3,
        "start_time": "2024-04-25T14:18:01.933Z"
      },
      {
        "duration": 66,
        "start_time": "2024-04-25T14:18:01.939Z"
      },
      {
        "duration": 91,
        "start_time": "2024-04-25T14:18:02.007Z"
      },
      {
        "duration": 256,
        "start_time": "2024-04-25T14:18:02.100Z"
      },
      {
        "duration": 680,
        "start_time": "2024-04-25T14:18:02.358Z"
      },
      {
        "duration": 310,
        "start_time": "2024-04-25T14:18:03.040Z"
      },
      {
        "duration": 5,
        "start_time": "2024-04-25T14:18:03.351Z"
      },
      {
        "duration": 79,
        "start_time": "2024-04-25T14:18:03.357Z"
      },
      {
        "duration": 38,
        "start_time": "2024-04-25T14:18:03.437Z"
      },
      {
        "duration": 174,
        "start_time": "2024-04-25T14:18:03.477Z"
      },
      {
        "duration": 270,
        "start_time": "2024-04-25T14:18:03.653Z"
      },
      {
        "duration": 260,
        "start_time": "2024-04-25T14:18:03.925Z"
      },
      {
        "duration": 7,
        "start_time": "2024-04-25T14:18:04.187Z"
      },
      {
        "duration": 37,
        "start_time": "2024-04-25T14:18:04.195Z"
      },
      {
        "duration": 4,
        "start_time": "2024-04-25T14:18:21.006Z"
      },
      {
        "duration": 11,
        "start_time": "2024-04-25T14:18:26.347Z"
      },
      {
        "duration": 194,
        "start_time": "2024-04-25T14:20:36.938Z"
      },
      {
        "duration": 294,
        "start_time": "2024-04-25T14:21:27.824Z"
      },
      {
        "duration": 1215,
        "start_time": "2024-04-25T14:22:07.987Z"
      },
      {
        "duration": 4,
        "start_time": "2024-04-25T14:23:15.085Z"
      },
      {
        "duration": 7,
        "start_time": "2024-04-25T14:23:17.888Z"
      },
      {
        "duration": 499,
        "start_time": "2024-04-25T14:23:21.511Z"
      },
      {
        "duration": 14,
        "start_time": "2024-04-25T14:23:56.564Z"
      },
      {
        "duration": 19,
        "start_time": "2024-04-25T14:24:30.113Z"
      },
      {
        "duration": 12,
        "start_time": "2024-04-25T14:24:39.555Z"
      },
      {
        "duration": 5,
        "start_time": "2024-04-25T14:24:46.322Z"
      },
      {
        "duration": 12,
        "start_time": "2024-04-25T14:24:49.113Z"
      },
      {
        "duration": 653,
        "start_time": "2024-04-25T14:28:15.138Z"
      },
      {
        "duration": 42,
        "start_time": "2024-04-25T14:28:21.545Z"
      },
      {
        "duration": 3,
        "start_time": "2024-04-25T14:28:53.393Z"
      },
      {
        "duration": 26,
        "start_time": "2024-04-25T14:28:58.885Z"
      },
      {
        "duration": 19,
        "start_time": "2024-04-25T14:32:13.015Z"
      },
      {
        "duration": 3,
        "start_time": "2024-04-25T14:32:53.240Z"
      },
      {
        "duration": 51,
        "start_time": "2024-04-25T14:32:53.244Z"
      },
      {
        "duration": 97,
        "start_time": "2024-04-25T14:32:53.296Z"
      },
      {
        "duration": 260,
        "start_time": "2024-04-25T14:32:53.394Z"
      },
      {
        "duration": 294,
        "start_time": "2024-04-25T14:32:53.655Z"
      },
      {
        "duration": 306,
        "start_time": "2024-04-25T14:32:53.950Z"
      },
      {
        "duration": 6,
        "start_time": "2024-04-25T14:32:54.258Z"
      },
      {
        "duration": 33,
        "start_time": "2024-04-25T14:32:54.265Z"
      },
      {
        "duration": 32,
        "start_time": "2024-04-25T14:32:54.300Z"
      },
      {
        "duration": 32,
        "start_time": "2024-04-25T14:32:54.334Z"
      },
      {
        "duration": 16,
        "start_time": "2024-04-25T14:32:54.368Z"
      },
      {
        "duration": 188,
        "start_time": "2024-04-25T14:32:54.385Z"
      },
      {
        "duration": 4,
        "start_time": "2024-04-25T14:32:54.575Z"
      },
      {
        "duration": 24,
        "start_time": "2024-04-25T14:32:54.580Z"
      },
      {
        "duration": 4,
        "start_time": "2024-04-25T14:32:54.606Z"
      },
      {
        "duration": 17,
        "start_time": "2024-04-25T14:32:54.611Z"
      },
      {
        "duration": 1179,
        "start_time": "2024-04-25T14:32:54.630Z"
      },
      {
        "duration": 7,
        "start_time": "2024-04-25T14:32:55.810Z"
      },
      {
        "duration": 30,
        "start_time": "2024-04-25T14:32:55.819Z"
      },
      {
        "duration": 151,
        "start_time": "2024-04-25T14:32:55.850Z"
      },
      {
        "duration": 8,
        "start_time": "2024-04-25T14:33:52.349Z"
      },
      {
        "duration": 6,
        "start_time": "2024-04-25T14:35:09.116Z"
      },
      {
        "duration": 6,
        "start_time": "2024-04-25T14:36:16.434Z"
      },
      {
        "duration": 813,
        "start_time": "2024-04-25T14:36:41.427Z"
      },
      {
        "duration": 8,
        "start_time": "2024-04-25T14:36:57.481Z"
      },
      {
        "duration": 23,
        "start_time": "2024-04-25T14:37:00.016Z"
      },
      {
        "duration": 93,
        "start_time": "2024-04-25T14:37:18.711Z"
      },
      {
        "duration": 8,
        "start_time": "2024-04-25T14:38:11.587Z"
      },
      {
        "duration": 1260,
        "start_time": "2024-04-25T14:38:15.439Z"
      },
      {
        "duration": 6,
        "start_time": "2024-04-25T14:38:22.411Z"
      },
      {
        "duration": 19,
        "start_time": "2024-04-25T14:38:24.204Z"
      },
      {
        "duration": 3,
        "start_time": "2024-04-25T14:38:38.010Z"
      },
      {
        "duration": 35,
        "start_time": "2024-04-25T14:38:38.014Z"
      },
      {
        "duration": 84,
        "start_time": "2024-04-25T14:38:38.051Z"
      },
      {
        "duration": 307,
        "start_time": "2024-04-25T14:38:38.137Z"
      },
      {
        "duration": 298,
        "start_time": "2024-04-25T14:38:38.446Z"
      },
      {
        "duration": 354,
        "start_time": "2024-04-25T14:38:38.745Z"
      },
      {
        "duration": 7,
        "start_time": "2024-04-25T14:38:39.100Z"
      },
      {
        "duration": 9,
        "start_time": "2024-04-25T14:38:39.108Z"
      },
      {
        "duration": 24,
        "start_time": "2024-04-25T14:38:39.118Z"
      },
      {
        "duration": 12,
        "start_time": "2024-04-25T14:38:39.143Z"
      },
      {
        "duration": 8,
        "start_time": "2024-04-25T14:38:39.157Z"
      },
      {
        "duration": 172,
        "start_time": "2024-04-25T14:38:39.193Z"
      },
      {
        "duration": 3,
        "start_time": "2024-04-25T14:38:39.367Z"
      },
      {
        "duration": 26,
        "start_time": "2024-04-25T14:38:39.372Z"
      },
      {
        "duration": 4,
        "start_time": "2024-04-25T14:38:39.399Z"
      },
      {
        "duration": 43,
        "start_time": "2024-04-25T14:38:39.405Z"
      },
      {
        "duration": 846,
        "start_time": "2024-04-25T14:38:39.450Z"
      },
      {
        "duration": 7,
        "start_time": "2024-04-25T14:38:40.298Z"
      },
      {
        "duration": 39,
        "start_time": "2024-04-25T14:38:40.307Z"
      },
      {
        "duration": 250,
        "start_time": "2024-04-25T14:38:40.348Z"
      },
      {
        "duration": 119,
        "start_time": "2024-04-25T14:38:47.678Z"
      },
      {
        "duration": 3,
        "start_time": "2024-04-25T14:39:57.849Z"
      },
      {
        "duration": 35,
        "start_time": "2024-04-25T14:39:57.854Z"
      },
      {
        "duration": 134,
        "start_time": "2024-04-25T14:39:57.891Z"
      },
      {
        "duration": 274,
        "start_time": "2024-04-25T14:39:58.027Z"
      },
      {
        "duration": 262,
        "start_time": "2024-04-25T14:39:58.303Z"
      },
      {
        "duration": 293,
        "start_time": "2024-04-25T14:39:58.567Z"
      },
      {
        "duration": 5,
        "start_time": "2024-04-25T14:39:58.861Z"
      },
      {
        "duration": 112,
        "start_time": "2024-04-25T14:39:58.867Z"
      },
      {
        "duration": 47,
        "start_time": "2024-04-25T14:39:58.980Z"
      },
      {
        "duration": 16,
        "start_time": "2024-04-25T14:39:59.029Z"
      },
      {
        "duration": 51,
        "start_time": "2024-04-25T14:39:59.046Z"
      },
      {
        "duration": 169,
        "start_time": "2024-04-25T14:39:59.098Z"
      },
      {
        "duration": 3,
        "start_time": "2024-04-25T14:39:59.269Z"
      },
      {
        "duration": 68,
        "start_time": "2024-04-25T14:39:59.274Z"
      },
      {
        "duration": 98,
        "start_time": "2024-04-25T14:39:59.344Z"
      },
      {
        "duration": 94,
        "start_time": "2024-04-25T14:39:59.444Z"
      },
      {
        "duration": 1768,
        "start_time": "2024-04-25T14:39:59.540Z"
      },
      {
        "duration": 8,
        "start_time": "2024-04-25T14:40:01.310Z"
      },
      {
        "duration": 224,
        "start_time": "2024-04-25T14:40:01.319Z"
      },
      {
        "duration": 349,
        "start_time": "2024-04-25T14:40:01.545Z"
      },
      {
        "duration": 3,
        "start_time": "2024-04-25T14:44:42.977Z"
      },
      {
        "duration": 6,
        "start_time": "2024-04-25T14:44:42.988Z"
      },
      {
        "duration": 78,
        "start_time": "2024-04-25T14:44:42.995Z"
      },
      {
        "duration": 269,
        "start_time": "2024-04-25T14:44:43.075Z"
      },
      {
        "duration": 299,
        "start_time": "2024-04-25T14:44:43.346Z"
      },
      {
        "duration": 304,
        "start_time": "2024-04-25T14:44:43.647Z"
      },
      {
        "duration": 5,
        "start_time": "2024-04-25T14:44:43.952Z"
      },
      {
        "duration": 6,
        "start_time": "2024-04-25T14:44:43.958Z"
      },
      {
        "duration": 42,
        "start_time": "2024-04-25T14:44:43.966Z"
      },
      {
        "duration": 14,
        "start_time": "2024-04-25T14:44:44.010Z"
      },
      {
        "duration": 20,
        "start_time": "2024-04-25T14:44:44.027Z"
      },
      {
        "duration": 210,
        "start_time": "2024-04-25T14:44:44.049Z"
      },
      {
        "duration": 3,
        "start_time": "2024-04-25T14:44:44.261Z"
      },
      {
        "duration": 18,
        "start_time": "2024-04-25T14:44:44.265Z"
      },
      {
        "duration": 9,
        "start_time": "2024-04-25T14:44:44.285Z"
      },
      {
        "duration": 24,
        "start_time": "2024-04-25T14:44:44.296Z"
      },
      {
        "duration": 1321,
        "start_time": "2024-04-25T14:44:44.322Z"
      },
      {
        "duration": 9,
        "start_time": "2024-04-25T14:44:45.644Z"
      },
      {
        "duration": 44,
        "start_time": "2024-04-25T14:44:45.654Z"
      },
      {
        "duration": 203,
        "start_time": "2024-04-25T14:44:45.700Z"
      },
      {
        "duration": 231,
        "start_time": "2024-04-25T14:49:08.665Z"
      },
      {
        "duration": 85,
        "start_time": "2024-04-25T14:49:17.150Z"
      },
      {
        "duration": 7116,
        "start_time": "2024-04-25T14:49:23.554Z"
      },
      {
        "duration": 6693,
        "start_time": "2024-04-25T14:50:17.429Z"
      },
      {
        "duration": 8599,
        "start_time": "2024-04-25T14:51:02.007Z"
      },
      {
        "duration": 9152,
        "start_time": "2024-04-25T14:52:25.127Z"
      },
      {
        "duration": 5,
        "start_time": "2024-04-25T15:00:51.718Z"
      },
      {
        "duration": 65,
        "start_time": "2024-04-25T15:00:51.725Z"
      },
      {
        "duration": 88,
        "start_time": "2024-04-25T15:00:51.792Z"
      },
      {
        "duration": 271,
        "start_time": "2024-04-25T15:00:51.882Z"
      },
      {
        "duration": 310,
        "start_time": "2024-04-25T15:00:52.155Z"
      },
      {
        "duration": 782,
        "start_time": "2024-04-25T15:00:52.467Z"
      },
      {
        "duration": 4,
        "start_time": "2024-04-25T15:00:53.251Z"
      },
      {
        "duration": 33,
        "start_time": "2024-04-25T15:00:53.257Z"
      },
      {
        "duration": 40,
        "start_time": "2024-04-25T15:00:53.291Z"
      },
      {
        "duration": 11,
        "start_time": "2024-04-25T15:00:53.334Z"
      },
      {
        "duration": 12,
        "start_time": "2024-04-25T15:00:53.346Z"
      },
      {
        "duration": 205,
        "start_time": "2024-04-25T15:00:53.359Z"
      },
      {
        "duration": 4,
        "start_time": "2024-04-25T15:00:53.565Z"
      },
      {
        "duration": 108,
        "start_time": "2024-04-25T15:00:53.570Z"
      },
      {
        "duration": 44,
        "start_time": "2024-04-25T15:00:53.679Z"
      },
      {
        "duration": 32,
        "start_time": "2024-04-25T15:00:53.725Z"
      },
      {
        "duration": 1388,
        "start_time": "2024-04-25T15:00:53.759Z"
      },
      {
        "duration": 8,
        "start_time": "2024-04-25T15:00:55.148Z"
      },
      {
        "duration": 38,
        "start_time": "2024-04-25T15:00:55.157Z"
      },
      {
        "duration": 9601,
        "start_time": "2024-04-25T15:00:55.197Z"
      },
      {
        "duration": 19,
        "start_time": "2024-04-25T15:33:37.866Z"
      },
      {
        "duration": 32,
        "start_time": "2024-04-25T15:33:42.595Z"
      },
      {
        "duration": 11,
        "start_time": "2024-04-25T15:33:47.111Z"
      },
      {
        "duration": 6,
        "start_time": "2024-04-25T15:34:04.511Z"
      },
      {
        "duration": 6,
        "start_time": "2024-04-25T15:34:16.406Z"
      },
      {
        "duration": 23,
        "start_time": "2024-04-25T15:34:48.478Z"
      },
      {
        "duration": 24,
        "start_time": "2024-04-25T15:35:33.254Z"
      },
      {
        "duration": 10,
        "start_time": "2024-04-25T15:36:59.907Z"
      },
      {
        "duration": 9,
        "start_time": "2024-04-25T15:37:09.621Z"
      },
      {
        "duration": 9,
        "start_time": "2024-04-25T15:37:16.685Z"
      },
      {
        "duration": 9,
        "start_time": "2024-04-25T15:37:25.975Z"
      },
      {
        "duration": 9,
        "start_time": "2024-04-25T15:37:29.107Z"
      },
      {
        "duration": 4,
        "start_time": "2024-04-25T15:37:36.035Z"
      },
      {
        "duration": 10,
        "start_time": "2024-04-25T15:37:44.391Z"
      },
      {
        "duration": 32,
        "start_time": "2024-04-25T15:38:09.740Z"
      },
      {
        "duration": 4,
        "start_time": "2024-04-25T15:38:19.998Z"
      },
      {
        "duration": 7,
        "start_time": "2024-04-25T15:38:41.057Z"
      },
      {
        "duration": 7,
        "start_time": "2024-04-25T15:38:47.216Z"
      },
      {
        "duration": 8,
        "start_time": "2024-04-25T15:40:06.398Z"
      },
      {
        "duration": 8,
        "start_time": "2024-04-25T15:42:20.447Z"
      },
      {
        "duration": 8,
        "start_time": "2024-04-25T15:42:41.662Z"
      },
      {
        "duration": 6,
        "start_time": "2024-04-25T15:42:44.713Z"
      },
      {
        "duration": 210,
        "start_time": "2024-04-25T15:43:12.424Z"
      },
      {
        "duration": 195,
        "start_time": "2024-04-25T15:47:24.375Z"
      },
      {
        "duration": 215,
        "start_time": "2024-04-25T15:47:44.897Z"
      },
      {
        "duration": 18,
        "start_time": "2024-04-26T08:26:26.882Z"
      },
      {
        "duration": 4,
        "start_time": "2024-04-26T08:29:22.174Z"
      },
      {
        "duration": 7,
        "start_time": "2024-04-26T08:29:22.376Z"
      },
      {
        "duration": 61,
        "start_time": "2024-04-26T08:29:22.393Z"
      },
      {
        "duration": 307,
        "start_time": "2024-04-26T08:29:22.456Z"
      },
      {
        "duration": 302,
        "start_time": "2024-04-26T08:29:22.765Z"
      },
      {
        "duration": 306,
        "start_time": "2024-04-26T08:29:23.069Z"
      },
      {
        "duration": 5,
        "start_time": "2024-04-26T08:29:23.376Z"
      },
      {
        "duration": 29,
        "start_time": "2024-04-26T08:29:23.382Z"
      },
      {
        "duration": 47,
        "start_time": "2024-04-26T08:29:23.413Z"
      },
      {
        "duration": 23,
        "start_time": "2024-04-26T08:29:23.462Z"
      },
      {
        "duration": 27,
        "start_time": "2024-04-26T08:29:23.487Z"
      },
      {
        "duration": 17,
        "start_time": "2024-04-26T08:29:23.517Z"
      },
      {
        "duration": 169,
        "start_time": "2024-04-26T08:29:23.536Z"
      },
      {
        "duration": 6,
        "start_time": "2024-04-26T08:29:23.706Z"
      },
      {
        "duration": 45,
        "start_time": "2024-04-26T08:29:23.714Z"
      },
      {
        "duration": 6,
        "start_time": "2024-04-26T08:29:52.854Z"
      },
      {
        "duration": 6,
        "start_time": "2024-04-26T08:30:20.390Z"
      },
      {
        "duration": 11,
        "start_time": "2024-04-26T08:30:30.982Z"
      },
      {
        "duration": 57,
        "start_time": "2024-04-26T08:30:55.740Z"
      },
      {
        "duration": 5,
        "start_time": "2024-04-26T08:31:01.298Z"
      },
      {
        "duration": 3,
        "start_time": "2024-04-26T08:31:03.745Z"
      },
      {
        "duration": 27,
        "start_time": "2024-04-26T08:31:05.659Z"
      },
      {
        "duration": 24,
        "start_time": "2024-04-26T08:31:08.352Z"
      },
      {
        "duration": 11,
        "start_time": "2024-04-26T08:31:11.591Z"
      },
      {
        "duration": 14,
        "start_time": "2024-04-26T08:31:15.420Z"
      },
      {
        "duration": 159,
        "start_time": "2024-04-26T08:31:20.142Z"
      },
      {
        "duration": 56,
        "start_time": "2024-04-26T08:31:49.696Z"
      },
      {
        "duration": 160,
        "start_time": "2024-04-26T08:31:55.917Z"
      },
      {
        "duration": 8,
        "start_time": "2024-04-26T08:32:29.418Z"
      },
      {
        "duration": 1116,
        "start_time": "2024-04-26T08:33:18.165Z"
      },
      {
        "duration": 32,
        "start_time": "2024-04-26T08:33:29.440Z"
      },
      {
        "duration": 25,
        "start_time": "2024-04-26T08:33:31.728Z"
      },
      {
        "duration": 16,
        "start_time": "2024-04-26T08:33:46.212Z"
      },
      {
        "duration": 166,
        "start_time": "2024-04-26T08:36:05.851Z"
      },
      {
        "duration": 3,
        "start_time": "2024-04-26T08:36:21.343Z"
      },
      {
        "duration": 27,
        "start_time": "2024-04-26T08:36:21.348Z"
      },
      {
        "duration": 102,
        "start_time": "2024-04-26T08:36:21.376Z"
      },
      {
        "duration": 286,
        "start_time": "2024-04-26T08:36:21.480Z"
      },
      {
        "duration": 276,
        "start_time": "2024-04-26T08:36:21.768Z"
      },
      {
        "duration": 302,
        "start_time": "2024-04-26T08:36:22.047Z"
      },
      {
        "duration": 5,
        "start_time": "2024-04-26T08:36:22.350Z"
      },
      {
        "duration": 11,
        "start_time": "2024-04-26T08:36:22.357Z"
      },
      {
        "duration": 35,
        "start_time": "2024-04-26T08:36:22.369Z"
      },
      {
        "duration": 21,
        "start_time": "2024-04-26T08:36:22.405Z"
      },
      {
        "duration": 11,
        "start_time": "2024-04-26T08:36:22.428Z"
      },
      {
        "duration": 14,
        "start_time": "2024-04-26T08:36:22.440Z"
      },
      {
        "duration": 205,
        "start_time": "2024-04-26T08:36:22.456Z"
      },
      {
        "duration": 12,
        "start_time": "2024-04-26T08:36:22.662Z"
      },
      {
        "duration": 19,
        "start_time": "2024-04-26T08:36:22.675Z"
      },
      {
        "duration": 15,
        "start_time": "2024-04-26T08:36:22.696Z"
      },
      {
        "duration": 7,
        "start_time": "2024-04-26T08:36:43.416Z"
      },
      {
        "duration": 5,
        "start_time": "2024-04-26T08:36:52.217Z"
      },
      {
        "duration": 14,
        "start_time": "2024-04-26T08:36:58.457Z"
      },
      {
        "duration": 1400,
        "start_time": "2024-04-26T08:37:45.613Z"
      },
      {
        "duration": 4,
        "start_time": "2024-04-26T08:37:47.015Z"
      },
      {
        "duration": 68,
        "start_time": "2024-04-26T08:37:47.021Z"
      },
      {
        "duration": 319,
        "start_time": "2024-04-26T08:37:47.091Z"
      },
      {
        "duration": 342,
        "start_time": "2024-04-26T08:37:47.411Z"
      },
      {
        "duration": 326,
        "start_time": "2024-04-26T08:37:47.755Z"
      },
      {
        "duration": 5,
        "start_time": "2024-04-26T08:37:48.083Z"
      },
      {
        "duration": 25,
        "start_time": "2024-04-26T08:37:48.093Z"
      },
      {
        "duration": 128,
        "start_time": "2024-04-26T08:37:48.120Z"
      },
      {
        "duration": 26,
        "start_time": "2024-04-26T08:37:48.250Z"
      },
      {
        "duration": 18,
        "start_time": "2024-04-26T08:37:48.277Z"
      },
      {
        "duration": 34,
        "start_time": "2024-04-26T08:37:48.296Z"
      },
      {
        "duration": 203,
        "start_time": "2024-04-26T08:37:48.331Z"
      },
      {
        "duration": 12,
        "start_time": "2024-04-26T08:37:48.535Z"
      },
      {
        "duration": 45,
        "start_time": "2024-04-26T08:37:48.549Z"
      },
      {
        "duration": 129,
        "start_time": "2024-04-26T08:37:48.595Z"
      },
      {
        "duration": 0,
        "start_time": "2024-04-26T08:37:48.726Z"
      },
      {
        "duration": 0,
        "start_time": "2024-04-26T08:37:48.727Z"
      },
      {
        "duration": 0,
        "start_time": "2024-04-26T08:37:48.728Z"
      },
      {
        "duration": 0,
        "start_time": "2024-04-26T08:37:48.729Z"
      },
      {
        "duration": 0,
        "start_time": "2024-04-26T08:37:48.730Z"
      },
      {
        "duration": 0,
        "start_time": "2024-04-26T08:37:48.731Z"
      },
      {
        "duration": 0,
        "start_time": "2024-04-26T08:37:48.732Z"
      },
      {
        "duration": 15,
        "start_time": "2024-04-26T08:38:13.726Z"
      },
      {
        "duration": 3,
        "start_time": "2024-04-26T08:38:39.838Z"
      },
      {
        "duration": 5,
        "start_time": "2024-04-26T08:38:41.729Z"
      },
      {
        "duration": 58,
        "start_time": "2024-04-26T08:38:44.053Z"
      },
      {
        "duration": 273,
        "start_time": "2024-04-26T08:38:48.396Z"
      },
      {
        "duration": 246,
        "start_time": "2024-04-26T08:38:51.311Z"
      },
      {
        "duration": 305,
        "start_time": "2024-04-26T08:38:55.335Z"
      },
      {
        "duration": 5,
        "start_time": "2024-04-26T08:38:58.751Z"
      },
      {
        "duration": 3,
        "start_time": "2024-04-26T08:39:10.684Z"
      },
      {
        "duration": 11,
        "start_time": "2024-04-26T08:39:26.387Z"
      },
      {
        "duration": 30,
        "start_time": "2024-04-26T08:39:45.151Z"
      },
      {
        "duration": 12,
        "start_time": "2024-04-26T08:39:49.602Z"
      },
      {
        "duration": 30,
        "start_time": "2024-04-26T08:39:57.458Z"
      },
      {
        "duration": 22,
        "start_time": "2024-04-26T08:40:04.963Z"
      },
      {
        "duration": 185,
        "start_time": "2024-04-26T08:40:15.766Z"
      },
      {
        "duration": 14,
        "start_time": "2024-04-26T08:41:13.765Z"
      },
      {
        "duration": 14,
        "start_time": "2024-04-26T08:41:32.967Z"
      },
      {
        "duration": 4,
        "start_time": "2024-04-26T08:42:11.871Z"
      },
      {
        "duration": 280,
        "start_time": "2024-04-26T08:43:37.066Z"
      },
      {
        "duration": 4,
        "start_time": "2024-04-26T08:51:57.855Z"
      },
      {
        "duration": 21,
        "start_time": "2024-04-26T08:51:57.861Z"
      },
      {
        "duration": 82,
        "start_time": "2024-04-26T08:51:57.884Z"
      },
      {
        "duration": 310,
        "start_time": "2024-04-26T08:51:57.967Z"
      },
      {
        "duration": 295,
        "start_time": "2024-04-26T08:51:58.279Z"
      },
      {
        "duration": 290,
        "start_time": "2024-04-26T08:51:58.576Z"
      },
      {
        "duration": 3,
        "start_time": "2024-04-26T08:51:58.868Z"
      },
      {
        "duration": 42,
        "start_time": "2024-04-26T08:51:58.872Z"
      },
      {
        "duration": 29,
        "start_time": "2024-04-26T08:51:58.916Z"
      },
      {
        "duration": 9,
        "start_time": "2024-04-26T08:51:58.947Z"
      },
      {
        "duration": 40,
        "start_time": "2024-04-26T08:51:58.958Z"
      },
      {
        "duration": 305,
        "start_time": "2024-04-26T08:51:58.999Z"
      },
      {
        "duration": 7,
        "start_time": "2024-04-26T08:51:59.306Z"
      },
      {
        "duration": 10,
        "start_time": "2024-04-26T08:51:59.315Z"
      },
      {
        "duration": 10,
        "start_time": "2024-04-26T08:52:35.364Z"
      },
      {
        "duration": 10,
        "start_time": "2024-04-26T08:53:04.543Z"
      },
      {
        "duration": 10,
        "start_time": "2024-04-26T08:53:32.488Z"
      },
      {
        "duration": 14,
        "start_time": "2024-04-26T08:54:29.551Z"
      },
      {
        "duration": 12,
        "start_time": "2024-04-26T08:54:37.417Z"
      },
      {
        "duration": 5,
        "start_time": "2024-04-26T08:54:57.145Z"
      },
      {
        "duration": 12,
        "start_time": "2024-04-26T08:54:59.489Z"
      },
      {
        "duration": 9,
        "start_time": "2024-04-26T08:55:04.365Z"
      },
      {
        "duration": 3,
        "start_time": "2024-04-26T08:55:51.150Z"
      },
      {
        "duration": 9,
        "start_time": "2024-04-26T08:55:51.155Z"
      },
      {
        "duration": 63,
        "start_time": "2024-04-26T08:55:51.165Z"
      },
      {
        "duration": 351,
        "start_time": "2024-04-26T08:55:51.230Z"
      },
      {
        "duration": 289,
        "start_time": "2024-04-26T08:55:51.583Z"
      },
      {
        "duration": 290,
        "start_time": "2024-04-26T08:55:51.873Z"
      },
      {
        "duration": 3,
        "start_time": "2024-04-26T08:55:52.165Z"
      },
      {
        "duration": 41,
        "start_time": "2024-04-26T08:55:52.169Z"
      },
      {
        "duration": 22,
        "start_time": "2024-04-26T08:55:52.212Z"
      },
      {
        "duration": 10,
        "start_time": "2024-04-26T08:55:52.236Z"
      },
      {
        "duration": 14,
        "start_time": "2024-04-26T08:55:52.247Z"
      },
      {
        "duration": 308,
        "start_time": "2024-04-26T08:55:52.263Z"
      },
      {
        "duration": 11,
        "start_time": "2024-04-26T08:56:03.728Z"
      },
      {
        "duration": 7,
        "start_time": "2024-04-26T08:57:28.771Z"
      },
      {
        "duration": 3,
        "start_time": "2024-04-26T09:08:04.731Z"
      },
      {
        "duration": 109,
        "start_time": "2024-04-26T09:08:04.736Z"
      },
      {
        "duration": 102,
        "start_time": "2024-04-26T09:08:04.847Z"
      },
      {
        "duration": 302,
        "start_time": "2024-04-26T09:08:04.951Z"
      },
      {
        "duration": 302,
        "start_time": "2024-04-26T09:08:05.255Z"
      },
      {
        "duration": 397,
        "start_time": "2024-04-26T09:08:05.559Z"
      },
      {
        "duration": 4,
        "start_time": "2024-04-26T09:08:05.958Z"
      },
      {
        "duration": 46,
        "start_time": "2024-04-26T09:08:05.963Z"
      },
      {
        "duration": 30,
        "start_time": "2024-04-26T09:08:06.011Z"
      },
      {
        "duration": 32,
        "start_time": "2024-04-26T09:08:06.043Z"
      },
      {
        "duration": 22,
        "start_time": "2024-04-26T09:08:06.077Z"
      },
      {
        "duration": 288,
        "start_time": "2024-04-26T09:08:06.100Z"
      },
      {
        "duration": 10,
        "start_time": "2024-04-26T09:08:25.037Z"
      },
      {
        "duration": 8,
        "start_time": "2024-04-26T09:08:55.729Z"
      },
      {
        "duration": 3,
        "start_time": "2024-04-26T09:10:11.793Z"
      },
      {
        "duration": 1337,
        "start_time": "2024-04-26T09:10:22.930Z"
      },
      {
        "duration": 98,
        "start_time": "2024-04-26T09:10:39.443Z"
      },
      {
        "duration": 26,
        "start_time": "2024-04-26T09:10:48.173Z"
      },
      {
        "duration": 9,
        "start_time": "2024-04-26T09:11:38.974Z"
      },
      {
        "duration": 25,
        "start_time": "2024-04-26T09:12:01.371Z"
      },
      {
        "duration": 25,
        "start_time": "2024-04-26T09:12:20.622Z"
      },
      {
        "duration": 9,
        "start_time": "2024-04-26T09:12:40.596Z"
      },
      {
        "duration": 8,
        "start_time": "2024-04-26T09:12:56.511Z"
      },
      {
        "duration": 9,
        "start_time": "2024-04-26T09:13:50.651Z"
      },
      {
        "duration": 9,
        "start_time": "2024-04-26T09:13:55.567Z"
      },
      {
        "duration": 6,
        "start_time": "2024-04-26T09:14:25.177Z"
      },
      {
        "duration": 4,
        "start_time": "2024-04-26T09:18:46.699Z"
      },
      {
        "duration": 22,
        "start_time": "2024-04-26T09:18:46.705Z"
      },
      {
        "duration": 67,
        "start_time": "2024-04-26T09:18:46.730Z"
      },
      {
        "duration": 259,
        "start_time": "2024-04-26T09:18:46.799Z"
      },
      {
        "duration": 295,
        "start_time": "2024-04-26T09:18:47.060Z"
      },
      {
        "duration": 304,
        "start_time": "2024-04-26T09:18:47.357Z"
      },
      {
        "duration": 3,
        "start_time": "2024-04-26T09:18:47.662Z"
      },
      {
        "duration": 43,
        "start_time": "2024-04-26T09:18:47.666Z"
      },
      {
        "duration": 10,
        "start_time": "2024-04-26T09:18:47.711Z"
      },
      {
        "duration": 20,
        "start_time": "2024-04-26T09:18:47.722Z"
      },
      {
        "duration": 273,
        "start_time": "2024-04-26T09:18:47.744Z"
      },
      {
        "duration": 9,
        "start_time": "2024-04-26T09:18:48.019Z"
      },
      {
        "duration": 11,
        "start_time": "2024-04-26T09:19:18.847Z"
      },
      {
        "duration": 6,
        "start_time": "2024-04-26T09:19:57.841Z"
      },
      {
        "duration": 209,
        "start_time": "2024-04-26T09:19:59.907Z"
      },
      {
        "duration": 183,
        "start_time": "2024-04-26T09:27:36.012Z"
      },
      {
        "duration": 208,
        "start_time": "2024-04-26T09:29:42.491Z"
      },
      {
        "duration": 155,
        "start_time": "2024-04-26T09:30:38.094Z"
      },
      {
        "duration": 175,
        "start_time": "2024-04-26T09:31:01.391Z"
      },
      {
        "duration": 317,
        "start_time": "2024-04-26T09:31:13.649Z"
      },
      {
        "duration": 213,
        "start_time": "2024-04-26T09:31:20.713Z"
      },
      {
        "duration": 541,
        "start_time": "2024-04-26T09:31:35.337Z"
      },
      {
        "duration": 6,
        "start_time": "2024-04-26T09:31:59.371Z"
      },
      {
        "duration": 10,
        "start_time": "2024-04-26T09:32:40.568Z"
      },
      {
        "duration": 108,
        "start_time": "2024-04-26T09:34:37.666Z"
      },
      {
        "duration": 140,
        "start_time": "2024-04-26T09:34:46.210Z"
      },
      {
        "duration": 136,
        "start_time": "2024-04-26T09:35:06.792Z"
      },
      {
        "duration": 116,
        "start_time": "2024-04-26T09:35:13.037Z"
      },
      {
        "duration": 135,
        "start_time": "2024-04-26T09:35:22.852Z"
      },
      {
        "duration": 137,
        "start_time": "2024-04-26T09:35:49.145Z"
      },
      {
        "duration": 128,
        "start_time": "2024-04-26T09:36:07.214Z"
      },
      {
        "duration": 13,
        "start_time": "2024-04-26T09:37:12.199Z"
      },
      {
        "duration": 14,
        "start_time": "2024-04-26T09:37:26.418Z"
      },
      {
        "duration": 11,
        "start_time": "2024-04-26T09:37:32.118Z"
      },
      {
        "duration": 9,
        "start_time": "2024-04-26T09:37:45.453Z"
      },
      {
        "duration": 9,
        "start_time": "2024-04-26T09:37:49.277Z"
      },
      {
        "duration": 121,
        "start_time": "2024-04-26T09:37:56.351Z"
      },
      {
        "duration": 180,
        "start_time": "2024-04-26T09:38:13.367Z"
      },
      {
        "duration": 12,
        "start_time": "2024-04-26T09:39:04.851Z"
      },
      {
        "duration": 176,
        "start_time": "2024-04-26T09:40:28.001Z"
      },
      {
        "duration": 216,
        "start_time": "2024-04-26T09:41:05.256Z"
      },
      {
        "duration": 137,
        "start_time": "2024-04-26T09:41:19.135Z"
      },
      {
        "duration": 134,
        "start_time": "2024-04-26T09:41:32.136Z"
      },
      {
        "duration": 129,
        "start_time": "2024-04-26T09:41:50.606Z"
      },
      {
        "duration": 141,
        "start_time": "2024-04-26T09:42:19.879Z"
      },
      {
        "duration": 189,
        "start_time": "2024-04-26T09:43:50.045Z"
      },
      {
        "duration": 140,
        "start_time": "2024-04-26T09:44:11.318Z"
      },
      {
        "duration": 185,
        "start_time": "2024-04-26T09:44:29.982Z"
      },
      {
        "duration": 135,
        "start_time": "2024-04-26T09:44:39.155Z"
      },
      {
        "duration": 155,
        "start_time": "2024-04-26T09:44:48.383Z"
      },
      {
        "duration": 128,
        "start_time": "2024-04-26T09:47:12.963Z"
      },
      {
        "duration": 121,
        "start_time": "2024-04-26T09:48:18.358Z"
      },
      {
        "duration": 144,
        "start_time": "2024-04-26T09:49:00.358Z"
      },
      {
        "duration": 134,
        "start_time": "2024-04-26T09:49:06.715Z"
      },
      {
        "duration": 131,
        "start_time": "2024-04-26T09:51:39.655Z"
      },
      {
        "duration": 206,
        "start_time": "2024-04-26T09:52:13.051Z"
      },
      {
        "duration": 139,
        "start_time": "2024-04-26T09:52:29.932Z"
      },
      {
        "duration": 122,
        "start_time": "2024-04-26T09:52:38.657Z"
      },
      {
        "duration": 4,
        "start_time": "2024-04-26T11:30:03.816Z"
      },
      {
        "duration": 28,
        "start_time": "2024-04-26T11:30:03.822Z"
      },
      {
        "duration": 73,
        "start_time": "2024-04-26T11:30:03.852Z"
      },
      {
        "duration": 318,
        "start_time": "2024-04-26T11:30:03.926Z"
      },
      {
        "duration": 305,
        "start_time": "2024-04-26T11:30:04.246Z"
      },
      {
        "duration": 306,
        "start_time": "2024-04-26T11:30:04.553Z"
      },
      {
        "duration": 2,
        "start_time": "2024-04-26T11:30:04.861Z"
      },
      {
        "duration": 41,
        "start_time": "2024-04-26T11:30:04.865Z"
      },
      {
        "duration": 18,
        "start_time": "2024-04-26T11:30:04.908Z"
      },
      {
        "duration": 36,
        "start_time": "2024-04-26T11:30:04.927Z"
      },
      {
        "duration": 298,
        "start_time": "2024-04-26T11:30:04.966Z"
      },
      {
        "duration": 6,
        "start_time": "2024-04-26T11:30:05.265Z"
      },
      {
        "duration": 124,
        "start_time": "2024-04-26T11:30:05.272Z"
      },
      {
        "duration": 337,
        "start_time": "2024-04-26T11:30:05.398Z"
      },
      {
        "duration": 219,
        "start_time": "2024-04-26T11:30:05.737Z"
      },
      {
        "duration": 496,
        "start_time": "2024-04-26T11:30:05.958Z"
      },
      {
        "duration": 142,
        "start_time": "2024-04-26T11:30:06.456Z"
      },
      {
        "duration": 8,
        "start_time": "2024-04-26T11:30:09.042Z"
      },
      {
        "duration": 9,
        "start_time": "2024-04-26T11:30:15.515Z"
      },
      {
        "duration": 8,
        "start_time": "2024-04-26T11:30:25.935Z"
      },
      {
        "duration": 6,
        "start_time": "2024-04-26T11:30:58.702Z"
      },
      {
        "duration": 1251,
        "start_time": "2024-04-26T11:31:13.402Z"
      },
      {
        "duration": 12,
        "start_time": "2024-04-26T11:31:18.467Z"
      },
      {
        "duration": 5,
        "start_time": "2024-04-26T11:31:24.177Z"
      },
      {
        "duration": 5912,
        "start_time": "2024-04-26T11:32:10.829Z"
      },
      {
        "duration": 9,
        "start_time": "2024-04-26T11:32:54.856Z"
      },
      {
        "duration": 11,
        "start_time": "2024-04-26T11:33:06.687Z"
      },
      {
        "duration": 5634,
        "start_time": "2024-04-26T11:33:12.714Z"
      },
      {
        "duration": 3,
        "start_time": "2024-04-26T11:33:30.565Z"
      },
      {
        "duration": 54,
        "start_time": "2024-04-26T11:33:30.570Z"
      },
      {
        "duration": 125,
        "start_time": "2024-04-26T11:33:30.626Z"
      },
      {
        "duration": 287,
        "start_time": "2024-04-26T11:33:30.752Z"
      },
      {
        "duration": 309,
        "start_time": "2024-04-26T11:33:31.040Z"
      },
      {
        "duration": 328,
        "start_time": "2024-04-26T11:33:31.350Z"
      },
      {
        "duration": 14,
        "start_time": "2024-04-26T11:33:31.680Z"
      },
      {
        "duration": 197,
        "start_time": "2024-04-26T11:33:31.695Z"
      },
      {
        "duration": 49,
        "start_time": "2024-04-26T11:33:31.894Z"
      },
      {
        "duration": 20,
        "start_time": "2024-04-26T11:33:31.945Z"
      },
      {
        "duration": 283,
        "start_time": "2024-04-26T11:33:31.967Z"
      },
      {
        "duration": 6,
        "start_time": "2024-04-26T11:33:32.251Z"
      },
      {
        "duration": 48,
        "start_time": "2024-04-26T11:33:32.258Z"
      },
      {
        "duration": 201,
        "start_time": "2024-04-26T11:33:32.308Z"
      },
      {
        "duration": 200,
        "start_time": "2024-04-26T11:33:32.511Z"
      },
      {
        "duration": 150,
        "start_time": "2024-04-26T11:33:32.713Z"
      },
      {
        "duration": 148,
        "start_time": "2024-04-26T11:33:32.865Z"
      },
      {
        "duration": 1180,
        "start_time": "2024-04-26T11:33:33.014Z"
      },
      {
        "duration": 0,
        "start_time": "2024-04-26T11:33:34.196Z"
      },
      {
        "duration": 0,
        "start_time": "2024-04-26T11:33:34.197Z"
      },
      {
        "duration": 16,
        "start_time": "2024-04-26T11:34:02.394Z"
      },
      {
        "duration": 5602,
        "start_time": "2024-04-26T11:34:05.328Z"
      },
      {
        "duration": 10,
        "start_time": "2024-04-26T11:59:43.229Z"
      },
      {
        "duration": 73,
        "start_time": "2024-04-26T11:59:47.174Z"
      },
      {
        "duration": 76,
        "start_time": "2024-04-26T12:00:21.936Z"
      },
      {
        "duration": 3,
        "start_time": "2024-04-26T12:01:18.099Z"
      },
      {
        "duration": 74,
        "start_time": "2024-04-26T12:01:27.647Z"
      },
      {
        "duration": 78,
        "start_time": "2024-04-26T12:02:59.437Z"
      },
      {
        "duration": 4,
        "start_time": "2024-04-26T12:03:07.214Z"
      },
      {
        "duration": 3,
        "start_time": "2024-04-26T12:03:21.009Z"
      },
      {
        "duration": 4,
        "start_time": "2024-04-26T12:03:24.279Z"
      },
      {
        "duration": 84,
        "start_time": "2024-04-26T12:03:31.510Z"
      },
      {
        "duration": 84,
        "start_time": "2024-04-26T12:03:54.328Z"
      },
      {
        "duration": 82,
        "start_time": "2024-04-26T12:04:46.406Z"
      },
      {
        "duration": 104,
        "start_time": "2024-04-26T12:05:04.987Z"
      },
      {
        "duration": 92,
        "start_time": "2024-04-26T12:05:20.492Z"
      },
      {
        "duration": 86,
        "start_time": "2024-04-26T12:06:21.855Z"
      },
      {
        "duration": 84,
        "start_time": "2024-04-26T12:06:46.409Z"
      },
      {
        "duration": 88,
        "start_time": "2024-04-26T12:07:13.209Z"
      },
      {
        "duration": 88,
        "start_time": "2024-04-26T12:07:52.333Z"
      },
      {
        "duration": 101,
        "start_time": "2024-04-26T12:08:01.321Z"
      },
      {
        "duration": 82,
        "start_time": "2024-04-26T12:08:21.252Z"
      },
      {
        "duration": 98,
        "start_time": "2024-04-26T12:09:34.533Z"
      },
      {
        "duration": 88,
        "start_time": "2024-04-26T12:09:59.561Z"
      },
      {
        "duration": 92,
        "start_time": "2024-04-26T12:10:17.782Z"
      },
      {
        "duration": 93,
        "start_time": "2024-04-26T12:12:23.091Z"
      },
      {
        "duration": 103,
        "start_time": "2024-04-26T12:16:49.223Z"
      },
      {
        "duration": 88,
        "start_time": "2024-04-26T12:17:14.466Z"
      },
      {
        "duration": 114,
        "start_time": "2024-04-26T12:17:54.571Z"
      },
      {
        "duration": 227,
        "start_time": "2024-04-26T12:18:30.433Z"
      },
      {
        "duration": 168,
        "start_time": "2024-04-26T12:20:00.943Z"
      },
      {
        "duration": 196,
        "start_time": "2024-04-26T12:28:01.211Z"
      },
      {
        "duration": 161,
        "start_time": "2024-04-26T12:33:20.137Z"
      },
      {
        "duration": 1501,
        "start_time": "2024-04-26T12:33:37.382Z"
      },
      {
        "duration": 4,
        "start_time": "2024-04-26T12:33:38.885Z"
      },
      {
        "duration": 128,
        "start_time": "2024-04-26T12:33:38.891Z"
      },
      {
        "duration": 324,
        "start_time": "2024-04-26T12:33:39.022Z"
      },
      {
        "duration": 301,
        "start_time": "2024-04-26T12:33:39.347Z"
      },
      {
        "duration": 307,
        "start_time": "2024-04-26T12:33:39.650Z"
      },
      {
        "duration": 3,
        "start_time": "2024-04-26T12:33:39.959Z"
      },
      {
        "duration": 120,
        "start_time": "2024-04-26T12:33:39.963Z"
      },
      {
        "duration": 14,
        "start_time": "2024-04-26T12:33:40.084Z"
      },
      {
        "duration": 14,
        "start_time": "2024-04-26T12:33:40.100Z"
      },
      {
        "duration": 286,
        "start_time": "2024-04-26T12:33:40.115Z"
      },
      {
        "duration": 5,
        "start_time": "2024-04-26T12:33:40.402Z"
      },
      {
        "duration": 25,
        "start_time": "2024-04-26T12:33:40.409Z"
      },
      {
        "duration": 222,
        "start_time": "2024-04-26T12:33:40.436Z"
      },
      {
        "duration": 211,
        "start_time": "2024-04-26T12:33:40.660Z"
      },
      {
        "duration": 132,
        "start_time": "2024-04-26T12:33:40.873Z"
      },
      {
        "duration": 138,
        "start_time": "2024-04-26T12:33:41.007Z"
      },
      {
        "duration": 16,
        "start_time": "2024-04-26T12:33:41.146Z"
      },
      {
        "duration": 29,
        "start_time": "2024-04-26T12:33:41.164Z"
      },
      {
        "duration": 206,
        "start_time": "2024-04-26T12:33:41.194Z"
      },
      {
        "duration": 104,
        "start_time": "2024-04-26T12:33:41.401Z"
      },
      {
        "duration": 0,
        "start_time": "2024-04-26T12:33:41.507Z"
      },
      {
        "duration": 0,
        "start_time": "2024-04-26T12:33:41.509Z"
      },
      {
        "duration": 0,
        "start_time": "2024-04-26T12:33:41.510Z"
      },
      {
        "duration": 0,
        "start_time": "2024-04-26T12:33:41.511Z"
      },
      {
        "duration": 3,
        "start_time": "2024-04-26T12:34:20.750Z"
      },
      {
        "duration": 3,
        "start_time": "2024-04-26T12:34:26.734Z"
      },
      {
        "duration": 106,
        "start_time": "2024-04-26T12:34:33.744Z"
      },
      {
        "duration": 97,
        "start_time": "2024-04-26T12:34:58.685Z"
      },
      {
        "duration": 50,
        "start_time": "2024-04-26T12:43:28.495Z"
      },
      {
        "duration": 311,
        "start_time": "2024-04-26T12:44:14.559Z"
      },
      {
        "duration": 5,
        "start_time": "2024-04-26T12:45:33.598Z"
      },
      {
        "duration": 5,
        "start_time": "2024-04-26T12:45:47.098Z"
      },
      {
        "duration": 615,
        "start_time": "2024-04-26T12:45:56.973Z"
      },
      {
        "duration": 533,
        "start_time": "2024-04-26T12:48:24.390Z"
      },
      {
        "duration": 250,
        "start_time": "2024-04-26T12:48:48.959Z"
      },
      {
        "duration": 411,
        "start_time": "2024-04-26T12:48:59.247Z"
      },
      {
        "duration": 1944,
        "start_time": "2024-04-26T12:49:12.364Z"
      },
      {
        "duration": 6609,
        "start_time": "2024-04-26T12:49:23.129Z"
      },
      {
        "duration": 9574,
        "start_time": "2024-04-26T12:52:57.397Z"
      },
      {
        "duration": 10893,
        "start_time": "2024-04-26T12:53:21.817Z"
      },
      {
        "duration": 8973,
        "start_time": "2024-04-26T12:54:18.994Z"
      },
      {
        "duration": 8631,
        "start_time": "2024-04-26T12:56:38.973Z"
      },
      {
        "duration": 7121,
        "start_time": "2024-04-26T12:57:32.387Z"
      },
      {
        "duration": 4,
        "start_time": "2024-04-26T13:00:51.181Z"
      },
      {
        "duration": 18,
        "start_time": "2024-04-26T13:01:26.395Z"
      },
      {
        "duration": 18,
        "start_time": "2024-04-26T13:02:07.463Z"
      },
      {
        "duration": 8372,
        "start_time": "2024-04-26T13:02:25.058Z"
      },
      {
        "duration": 3971,
        "start_time": "2024-04-26T13:09:32.224Z"
      },
      {
        "duration": 5,
        "start_time": "2024-04-26T13:10:01.480Z"
      },
      {
        "duration": 1624879,
        "start_time": "2024-04-26T13:20:12.070Z"
      },
      {
        "duration": 166,
        "start_time": "2024-04-26T13:47:45.574Z"
      },
      {
        "duration": 285,
        "start_time": "2024-04-26T13:48:11.401Z"
      },
      {
        "duration": 118,
        "start_time": "2024-04-26T13:49:03.743Z"
      },
      {
        "duration": 113,
        "start_time": "2024-04-26T13:49:34.566Z"
      },
      {
        "duration": 5,
        "start_time": "2024-04-26T13:50:49.413Z"
      },
      {
        "duration": 75,
        "start_time": "2024-04-26T13:51:01.193Z"
      },
      {
        "duration": 5,
        "start_time": "2024-04-26T13:52:08.602Z"
      },
      {
        "duration": 450,
        "start_time": "2024-04-26T13:52:16.614Z"
      },
      {
        "duration": 5,
        "start_time": "2024-04-26T13:53:51.777Z"
      },
      {
        "duration": 534,
        "start_time": "2024-04-26T13:53:54.616Z"
      },
      {
        "duration": 542,
        "start_time": "2024-04-26T13:54:02.496Z"
      },
      {
        "duration": 743,
        "start_time": "2024-04-26T13:54:10.366Z"
      },
      {
        "duration": 63663,
        "start_time": "2024-04-26T13:54:21.887Z"
      },
      {
        "duration": 16008,
        "start_time": "2024-04-26T13:55:31.392Z"
      },
      {
        "duration": 34192,
        "start_time": "2024-04-26T13:57:28.434Z"
      },
      {
        "duration": 73995,
        "start_time": "2024-04-26T14:01:43.950Z"
      },
      {
        "duration": 4,
        "start_time": "2024-04-26T14:32:07.846Z"
      },
      {
        "duration": 27,
        "start_time": "2024-04-26T14:32:07.862Z"
      },
      {
        "duration": 76,
        "start_time": "2024-04-26T14:32:07.890Z"
      },
      {
        "duration": 273,
        "start_time": "2024-04-26T14:32:07.968Z"
      },
      {
        "duration": 296,
        "start_time": "2024-04-26T14:32:08.244Z"
      },
      {
        "duration": 313,
        "start_time": "2024-04-26T14:32:08.541Z"
      },
      {
        "duration": 3,
        "start_time": "2024-04-26T14:32:08.855Z"
      },
      {
        "duration": 38,
        "start_time": "2024-04-26T14:32:08.860Z"
      },
      {
        "duration": 12,
        "start_time": "2024-04-26T14:32:08.899Z"
      },
      {
        "duration": 8,
        "start_time": "2024-04-26T14:32:08.912Z"
      },
      {
        "duration": 304,
        "start_time": "2024-04-26T14:32:08.922Z"
      },
      {
        "duration": 7,
        "start_time": "2024-04-26T14:32:09.228Z"
      },
      {
        "duration": 21,
        "start_time": "2024-04-26T14:32:09.237Z"
      },
      {
        "duration": 237,
        "start_time": "2024-04-26T14:32:09.260Z"
      },
      {
        "duration": 198,
        "start_time": "2024-04-26T14:32:09.499Z"
      },
      {
        "duration": 305,
        "start_time": "2024-04-26T14:32:09.698Z"
      },
      {
        "duration": 145,
        "start_time": "2024-04-26T14:32:10.004Z"
      },
      {
        "duration": 15,
        "start_time": "2024-04-26T14:32:10.151Z"
      },
      {
        "duration": 17,
        "start_time": "2024-04-26T14:32:10.168Z"
      },
      {
        "duration": 42,
        "start_time": "2024-04-26T14:32:10.186Z"
      },
      {
        "duration": 523,
        "start_time": "2024-04-26T14:32:10.230Z"
      },
      {
        "duration": 1442,
        "start_time": "2024-04-26T14:32:10.754Z"
      },
      {
        "duration": 74192,
        "start_time": "2024-04-26T14:32:26.404Z"
      },
      {
        "duration": 67051,
        "start_time": "2024-04-26T14:34:10.519Z"
      },
      {
        "duration": 5,
        "start_time": "2024-04-26T14:38:44.694Z"
      },
      {
        "duration": 611,
        "start_time": "2024-04-26T14:38:47.903Z"
      },
      {
        "duration": 4,
        "start_time": "2024-04-26T14:39:00.265Z"
      },
      {
        "duration": 76,
        "start_time": "2024-04-26T14:39:00.270Z"
      },
      {
        "duration": 277,
        "start_time": "2024-04-26T14:39:00.348Z"
      },
      {
        "duration": 526,
        "start_time": "2024-04-26T14:39:00.626Z"
      },
      {
        "duration": 306,
        "start_time": "2024-04-26T14:39:01.154Z"
      },
      {
        "duration": 297,
        "start_time": "2024-04-26T14:39:01.462Z"
      },
      {
        "duration": 3,
        "start_time": "2024-04-26T14:39:01.761Z"
      },
      {
        "duration": 176,
        "start_time": "2024-04-26T14:39:01.766Z"
      },
      {
        "duration": 24,
        "start_time": "2024-04-26T14:39:01.944Z"
      },
      {
        "duration": 79,
        "start_time": "2024-04-26T14:39:01.970Z"
      },
      {
        "duration": 547,
        "start_time": "2024-04-26T14:39:02.051Z"
      },
      {
        "duration": 6,
        "start_time": "2024-04-26T14:39:02.600Z"
      },
      {
        "duration": 79,
        "start_time": "2024-04-26T14:39:02.608Z"
      },
      {
        "duration": 392,
        "start_time": "2024-04-26T14:39:02.689Z"
      },
      {
        "duration": 204,
        "start_time": "2024-04-26T14:39:03.083Z"
      },
      {
        "duration": 138,
        "start_time": "2024-04-26T14:39:03.288Z"
      },
      {
        "duration": 147,
        "start_time": "2024-04-26T14:39:03.428Z"
      },
      {
        "duration": 26,
        "start_time": "2024-04-26T14:39:03.577Z"
      },
      {
        "duration": 21,
        "start_time": "2024-04-26T14:39:03.605Z"
      },
      {
        "duration": 15,
        "start_time": "2024-04-26T14:39:03.628Z"
      },
      {
        "duration": 385,
        "start_time": "2024-04-26T14:39:06.204Z"
      },
      {
        "duration": 5,
        "start_time": "2024-04-26T14:40:19.097Z"
      },
      {
        "duration": 4,
        "start_time": "2024-04-26T14:40:54.160Z"
      },
      {
        "duration": 459,
        "start_time": "2024-04-26T14:40:57.089Z"
      },
      {
        "duration": 77,
        "start_time": "2024-04-26T14:42:07.119Z"
      },
      {
        "duration": 84,
        "start_time": "2024-04-26T14:42:13.350Z"
      },
      {
        "duration": 80,
        "start_time": "2024-04-26T14:42:27.396Z"
      },
      {
        "duration": 5,
        "start_time": "2024-04-26T14:42:34.883Z"
      },
      {
        "duration": 5,
        "start_time": "2024-04-26T14:43:25.075Z"
      },
      {
        "duration": 463,
        "start_time": "2024-04-26T14:43:27.307Z"
      },
      {
        "duration": 5,
        "start_time": "2024-04-26T14:43:39.180Z"
      },
      {
        "duration": 393,
        "start_time": "2024-04-26T14:43:41.875Z"
      },
      {
        "duration": 1087,
        "start_time": "2024-04-26T14:44:08.730Z"
      },
      {
        "duration": 68003,
        "start_time": "2024-04-26T14:44:17.562Z"
      },
      {
        "duration": 16434,
        "start_time": "2024-04-26T14:45:25.567Z"
      },
      {
        "duration": 32142,
        "start_time": "2024-04-26T15:15:27.467Z"
      },
      {
        "duration": 84,
        "start_time": "2024-04-26T15:15:59.611Z"
      },
      {
        "duration": 4,
        "start_time": "2024-04-26T15:15:59.696Z"
      },
      {
        "duration": 7,
        "start_time": "2024-04-26T15:16:45.483Z"
      },
      {
        "duration": 399,
        "start_time": "2024-04-26T15:16:47.857Z"
      },
      {
        "duration": 4,
        "start_time": "2024-04-26T15:17:36.248Z"
      },
      {
        "duration": 4,
        "start_time": "2024-04-26T15:18:18.277Z"
      },
      {
        "duration": 5,
        "start_time": "2024-04-26T15:18:48.631Z"
      },
      {
        "duration": 577,
        "start_time": "2024-04-26T15:18:54.018Z"
      },
      {
        "duration": 5,
        "start_time": "2024-04-26T15:19:35.272Z"
      },
      {
        "duration": 572,
        "start_time": "2024-04-26T15:19:38.028Z"
      },
      {
        "duration": 5,
        "start_time": "2024-04-26T15:20:05.151Z"
      },
      {
        "duration": 482,
        "start_time": "2024-04-26T15:20:09.528Z"
      },
      {
        "duration": 75,
        "start_time": "2024-04-26T15:23:24.401Z"
      },
      {
        "duration": 5,
        "start_time": "2024-04-26T15:24:19.778Z"
      },
      {
        "duration": 689,
        "start_time": "2024-04-26T15:24:22.137Z"
      },
      {
        "duration": 528,
        "start_time": "2024-04-26T15:26:14.246Z"
      },
      {
        "duration": 5,
        "start_time": "2024-04-26T15:26:19.409Z"
      },
      {
        "duration": 452,
        "start_time": "2024-04-26T15:26:20.819Z"
      },
      {
        "duration": 978,
        "start_time": "2024-04-26T15:26:37.121Z"
      },
      {
        "duration": 167953,
        "start_time": "2024-04-26T15:26:54.132Z"
      },
      {
        "duration": 103612,
        "start_time": "2024-04-26T15:30:22.282Z"
      },
      {
        "duration": 117616,
        "start_time": "2024-04-26T15:32:30.947Z"
      },
      {
        "duration": 13799,
        "start_time": "2024-04-26T15:39:12.298Z"
      },
      {
        "duration": 5,
        "start_time": "2024-04-26T15:40:30.405Z"
      },
      {
        "duration": 455,
        "start_time": "2024-04-26T15:40:36.259Z"
      },
      {
        "duration": 835,
        "start_time": "2024-04-26T15:40:47.572Z"
      },
      {
        "duration": 68899,
        "start_time": "2024-04-26T15:40:54.088Z"
      },
      {
        "duration": 9410,
        "start_time": "2024-04-26T15:42:02.988Z"
      },
      {
        "duration": 67876,
        "start_time": "2024-04-26T15:42:58.426Z"
      },
      {
        "duration": 37,
        "start_time": "2024-04-26T15:44:31.418Z"
      },
      {
        "duration": 30,
        "start_time": "2024-04-26T15:45:05.427Z"
      },
      {
        "duration": 5,
        "start_time": "2024-04-26T15:45:18.626Z"
      },
      {
        "duration": 1407,
        "start_time": "2024-04-26T15:47:08.508Z"
      },
      {
        "duration": 4,
        "start_time": "2024-04-26T15:47:09.917Z"
      },
      {
        "duration": 170,
        "start_time": "2024-04-26T15:47:09.923Z"
      },
      {
        "duration": 366,
        "start_time": "2024-04-26T15:47:10.094Z"
      },
      {
        "duration": 285,
        "start_time": "2024-04-26T15:47:10.462Z"
      },
      {
        "duration": 302,
        "start_time": "2024-04-26T15:47:10.749Z"
      },
      {
        "duration": 3,
        "start_time": "2024-04-26T15:47:11.053Z"
      },
      {
        "duration": 127,
        "start_time": "2024-04-26T15:47:11.058Z"
      },
      {
        "duration": 12,
        "start_time": "2024-04-26T15:47:11.186Z"
      },
      {
        "duration": 36,
        "start_time": "2024-04-26T15:47:11.199Z"
      },
      {
        "duration": 320,
        "start_time": "2024-04-26T15:47:11.237Z"
      },
      {
        "duration": 5,
        "start_time": "2024-04-26T15:47:11.559Z"
      },
      {
        "duration": 55,
        "start_time": "2024-04-26T15:47:11.565Z"
      },
      {
        "duration": 219,
        "start_time": "2024-04-26T15:47:11.623Z"
      },
      {
        "duration": 200,
        "start_time": "2024-04-26T15:47:11.844Z"
      },
      {
        "duration": 126,
        "start_time": "2024-04-26T15:47:12.046Z"
      },
      {
        "duration": 141,
        "start_time": "2024-04-26T15:47:12.174Z"
      },
      {
        "duration": 15,
        "start_time": "2024-04-26T15:47:12.317Z"
      },
      {
        "duration": 31,
        "start_time": "2024-04-26T15:47:12.333Z"
      },
      {
        "duration": 43,
        "start_time": "2024-04-26T15:47:12.365Z"
      },
      {
        "duration": 488,
        "start_time": "2024-04-26T15:47:12.409Z"
      },
      {
        "duration": 1196,
        "start_time": "2024-04-26T15:47:12.898Z"
      },
      {
        "duration": 9117,
        "start_time": "2024-04-26T15:47:14.096Z"
      },
      {
        "duration": 69374,
        "start_time": "2024-04-26T15:47:23.295Z"
      },
      {
        "duration": 4,
        "start_time": "2024-04-26T15:48:32.671Z"
      },
      {
        "duration": 180,
        "start_time": "2024-04-26T15:48:32.676Z"
      },
      {
        "duration": 0,
        "start_time": "2024-04-26T15:48:32.858Z"
      },
      {
        "duration": 10,
        "start_time": "2024-04-26T15:48:44.841Z"
      },
      {
        "duration": 41745,
        "start_time": "2024-04-26T15:51:21.697Z"
      },
      {
        "duration": 1404,
        "start_time": "2024-04-26T15:52:52.586Z"
      },
      {
        "duration": 5,
        "start_time": "2024-04-26T15:52:53.992Z"
      },
      {
        "duration": 105,
        "start_time": "2024-04-26T15:52:53.998Z"
      },
      {
        "duration": 269,
        "start_time": "2024-04-26T15:52:54.105Z"
      },
      {
        "duration": 290,
        "start_time": "2024-04-26T15:52:54.376Z"
      },
      {
        "duration": 319,
        "start_time": "2024-04-26T15:52:54.668Z"
      },
      {
        "duration": 3,
        "start_time": "2024-04-26T15:52:54.994Z"
      },
      {
        "duration": 125,
        "start_time": "2024-04-26T15:52:54.998Z"
      },
      {
        "duration": 10,
        "start_time": "2024-04-26T15:52:55.124Z"
      },
      {
        "duration": 9,
        "start_time": "2024-04-26T15:52:55.136Z"
      },
      {
        "duration": 274,
        "start_time": "2024-04-26T15:52:55.147Z"
      },
      {
        "duration": 5,
        "start_time": "2024-04-26T15:52:55.423Z"
      },
      {
        "duration": 12,
        "start_time": "2024-04-26T15:52:55.430Z"
      },
      {
        "duration": 211,
        "start_time": "2024-04-26T15:52:55.444Z"
      },
      {
        "duration": 191,
        "start_time": "2024-04-26T15:52:55.656Z"
      },
      {
        "duration": 127,
        "start_time": "2024-04-26T15:52:55.849Z"
      },
      {
        "duration": 148,
        "start_time": "2024-04-26T15:52:55.978Z"
      },
      {
        "duration": 12,
        "start_time": "2024-04-26T15:52:56.127Z"
      },
      {
        "duration": 20,
        "start_time": "2024-04-26T15:52:56.140Z"
      },
      {
        "duration": 5,
        "start_time": "2024-04-26T15:52:56.162Z"
      },
      {
        "duration": 197,
        "start_time": "2024-04-26T15:52:56.168Z"
      },
      {
        "duration": 328,
        "start_time": "2024-04-26T15:52:56.366Z"
      },
      {
        "duration": 9202,
        "start_time": "2024-04-26T15:52:56.696Z"
      },
      {
        "duration": 43877,
        "start_time": "2024-04-26T15:53:05.900Z"
      },
      {
        "duration": 2,
        "start_time": "2024-04-26T15:53:49.779Z"
      },
      {
        "duration": 26306,
        "start_time": "2024-04-26T15:53:49.783Z"
      },
      {
        "duration": 1446,
        "start_time": "2024-04-26T15:56:26.974Z"
      },
      {
        "duration": 4,
        "start_time": "2024-04-26T15:56:28.423Z"
      },
      {
        "duration": 69,
        "start_time": "2024-04-26T15:56:28.429Z"
      },
      {
        "duration": 253,
        "start_time": "2024-04-26T15:56:28.499Z"
      },
      {
        "duration": 291,
        "start_time": "2024-04-26T15:56:28.753Z"
      },
      {
        "duration": 307,
        "start_time": "2024-04-26T15:56:29.045Z"
      },
      {
        "duration": 3,
        "start_time": "2024-04-26T15:56:29.353Z"
      },
      {
        "duration": 117,
        "start_time": "2024-04-26T15:56:29.358Z"
      },
      {
        "duration": 24,
        "start_time": "2024-04-26T15:56:29.476Z"
      },
      {
        "duration": 54,
        "start_time": "2024-04-26T15:56:29.502Z"
      },
      {
        "duration": 297,
        "start_time": "2024-04-26T15:56:29.557Z"
      },
      {
        "duration": 5,
        "start_time": "2024-04-26T15:56:29.856Z"
      },
      {
        "duration": 39,
        "start_time": "2024-04-26T15:56:29.862Z"
      },
      {
        "duration": 214,
        "start_time": "2024-04-26T15:56:29.902Z"
      },
      {
        "duration": 202,
        "start_time": "2024-04-26T15:56:30.118Z"
      },
      {
        "duration": 133,
        "start_time": "2024-04-26T15:56:30.322Z"
      },
      {
        "duration": 142,
        "start_time": "2024-04-26T15:56:30.456Z"
      },
      {
        "duration": 12,
        "start_time": "2024-04-26T15:56:30.600Z"
      },
      {
        "duration": 236,
        "start_time": "2024-04-26T15:56:30.613Z"
      },
      {
        "duration": 83,
        "start_time": "2024-04-26T15:56:30.850Z"
      },
      {
        "duration": 433,
        "start_time": "2024-04-26T15:56:30.935Z"
      },
      {
        "duration": 329,
        "start_time": "2024-04-26T15:56:31.369Z"
      },
      {
        "duration": 9104,
        "start_time": "2024-04-26T15:56:31.700Z"
      },
      {
        "duration": 44491,
        "start_time": "2024-04-26T15:56:40.806Z"
      },
      {
        "duration": 3,
        "start_time": "2024-04-26T15:57:25.299Z"
      },
      {
        "duration": 27786,
        "start_time": "2024-04-26T15:57:25.303Z"
      },
      {
        "duration": 1401,
        "start_time": "2024-04-26T15:59:09.348Z"
      },
      {
        "duration": 5,
        "start_time": "2024-04-26T15:59:10.751Z"
      },
      {
        "duration": 77,
        "start_time": "2024-04-26T15:59:10.758Z"
      },
      {
        "duration": 303,
        "start_time": "2024-04-26T15:59:10.838Z"
      },
      {
        "duration": 299,
        "start_time": "2024-04-26T15:59:11.143Z"
      },
      {
        "duration": 326,
        "start_time": "2024-04-26T15:59:11.444Z"
      },
      {
        "duration": 4,
        "start_time": "2024-04-26T15:59:11.771Z"
      },
      {
        "duration": 108,
        "start_time": "2024-04-26T15:59:11.776Z"
      },
      {
        "duration": 18,
        "start_time": "2024-04-26T15:59:11.886Z"
      },
      {
        "duration": 7,
        "start_time": "2024-04-26T15:59:11.907Z"
      },
      {
        "duration": 283,
        "start_time": "2024-04-26T15:59:11.916Z"
      },
      {
        "duration": 7,
        "start_time": "2024-04-26T15:59:12.201Z"
      },
      {
        "duration": 41,
        "start_time": "2024-04-26T15:59:12.209Z"
      },
      {
        "duration": 195,
        "start_time": "2024-04-26T15:59:12.251Z"
      },
      {
        "duration": 200,
        "start_time": "2024-04-26T15:59:12.448Z"
      },
      {
        "duration": 145,
        "start_time": "2024-04-26T15:59:12.649Z"
      },
      {
        "duration": 242,
        "start_time": "2024-04-26T15:59:12.795Z"
      },
      {
        "duration": 64,
        "start_time": "2024-04-26T15:59:13.038Z"
      },
      {
        "duration": 19,
        "start_time": "2024-04-26T15:59:13.103Z"
      },
      {
        "duration": 6,
        "start_time": "2024-04-26T15:59:13.123Z"
      },
      {
        "duration": 588,
        "start_time": "2024-04-26T15:59:13.131Z"
      },
      {
        "duration": 279,
        "start_time": "2024-04-26T15:59:13.720Z"
      },
      {
        "duration": 9099,
        "start_time": "2024-04-26T15:59:14.001Z"
      },
      {
        "duration": 38063,
        "start_time": "2024-04-26T15:59:23.102Z"
      },
      {
        "duration": 4,
        "start_time": "2024-04-26T16:00:01.167Z"
      },
      {
        "duration": 23367,
        "start_time": "2024-04-26T16:00:01.172Z"
      },
      {
        "duration": 1422,
        "start_time": "2024-04-26T16:01:40.770Z"
      },
      {
        "duration": 4,
        "start_time": "2024-04-26T16:01:42.195Z"
      },
      {
        "duration": 84,
        "start_time": "2024-04-26T16:01:42.201Z"
      },
      {
        "duration": 273,
        "start_time": "2024-04-26T16:01:42.287Z"
      },
      {
        "duration": 288,
        "start_time": "2024-04-26T16:01:42.561Z"
      },
      {
        "duration": 304,
        "start_time": "2024-04-26T16:01:42.850Z"
      },
      {
        "duration": 3,
        "start_time": "2024-04-26T16:01:43.155Z"
      },
      {
        "duration": 114,
        "start_time": "2024-04-26T16:01:43.159Z"
      },
      {
        "duration": 10,
        "start_time": "2024-04-26T16:01:43.275Z"
      },
      {
        "duration": 14,
        "start_time": "2024-04-26T16:01:43.294Z"
      },
      {
        "duration": 301,
        "start_time": "2024-04-26T16:01:43.310Z"
      },
      {
        "duration": 5,
        "start_time": "2024-04-26T16:01:43.613Z"
      },
      {
        "duration": 16,
        "start_time": "2024-04-26T16:01:43.620Z"
      },
      {
        "duration": 206,
        "start_time": "2024-04-26T16:01:43.638Z"
      },
      {
        "duration": 200,
        "start_time": "2024-04-26T16:01:43.846Z"
      },
      {
        "duration": 126,
        "start_time": "2024-04-26T16:01:44.047Z"
      },
      {
        "duration": 143,
        "start_time": "2024-04-26T16:01:44.175Z"
      },
      {
        "duration": 15,
        "start_time": "2024-04-26T16:01:44.319Z"
      },
      {
        "duration": 42,
        "start_time": "2024-04-26T16:01:44.336Z"
      },
      {
        "duration": 5,
        "start_time": "2024-04-26T16:01:44.380Z"
      },
      {
        "duration": 322,
        "start_time": "2024-04-26T16:01:44.386Z"
      },
      {
        "duration": 995,
        "start_time": "2024-04-26T16:01:44.710Z"
      },
      {
        "duration": 9599,
        "start_time": "2024-04-26T16:01:45.795Z"
      },
      {
        "duration": 65752,
        "start_time": "2024-04-26T16:01:55.396Z"
      },
      {
        "duration": 3,
        "start_time": "2024-04-26T16:03:01.149Z"
      },
      {
        "duration": 40871,
        "start_time": "2024-04-26T16:03:01.154Z"
      },
      {
        "duration": 40900,
        "start_time": "2024-04-26T17:22:24.173Z"
      },
      {
        "duration": 41247,
        "start_time": "2024-04-26T17:23:51.578Z"
      },
      {
        "duration": 1401,
        "start_time": "2024-04-26T17:36:19.843Z"
      },
      {
        "duration": 4,
        "start_time": "2024-04-26T17:36:21.246Z"
      },
      {
        "duration": 116,
        "start_time": "2024-04-26T17:36:21.252Z"
      },
      {
        "duration": 290,
        "start_time": "2024-04-26T17:36:21.370Z"
      },
      {
        "duration": 302,
        "start_time": "2024-04-26T17:36:21.661Z"
      },
      {
        "duration": 291,
        "start_time": "2024-04-26T17:36:21.965Z"
      },
      {
        "duration": 3,
        "start_time": "2024-04-26T17:36:22.257Z"
      },
      {
        "duration": 178,
        "start_time": "2024-04-26T17:36:22.262Z"
      },
      {
        "duration": 10,
        "start_time": "2024-04-26T17:36:22.442Z"
      },
      {
        "duration": 18,
        "start_time": "2024-04-26T17:36:22.454Z"
      },
      {
        "duration": 283,
        "start_time": "2024-04-26T17:36:22.473Z"
      },
      {
        "duration": 5,
        "start_time": "2024-04-26T17:36:22.758Z"
      },
      {
        "duration": 27,
        "start_time": "2024-04-26T17:36:22.765Z"
      },
      {
        "duration": 197,
        "start_time": "2024-04-26T17:36:22.793Z"
      },
      {
        "duration": 204,
        "start_time": "2024-04-26T17:36:22.992Z"
      },
      {
        "duration": 137,
        "start_time": "2024-04-26T17:36:23.198Z"
      },
      {
        "duration": 165,
        "start_time": "2024-04-26T17:36:23.337Z"
      },
      {
        "duration": 23,
        "start_time": "2024-04-26T17:36:23.504Z"
      },
      {
        "duration": 10,
        "start_time": "2024-04-26T17:36:23.529Z"
      },
      {
        "duration": 7,
        "start_time": "2024-04-26T17:36:23.540Z"
      },
      {
        "duration": 327,
        "start_time": "2024-04-26T17:36:23.548Z"
      },
      {
        "duration": 1026,
        "start_time": "2024-04-26T17:36:23.877Z"
      },
      {
        "duration": 588781,
        "start_time": "2024-04-26T17:36:24.906Z"
      },
      {
        "duration": 0,
        "start_time": "2024-04-26T17:46:13.688Z"
      },
      {
        "duration": 0,
        "start_time": "2024-04-26T17:46:13.694Z"
      },
      {
        "duration": 0,
        "start_time": "2024-04-26T17:46:13.697Z"
      },
      {
        "duration": 1643,
        "start_time": "2024-04-26T17:46:48.891Z"
      },
      {
        "duration": 4,
        "start_time": "2024-04-26T17:46:50.536Z"
      },
      {
        "duration": 115,
        "start_time": "2024-04-26T17:46:50.542Z"
      },
      {
        "duration": 297,
        "start_time": "2024-04-26T17:46:50.660Z"
      },
      {
        "duration": 323,
        "start_time": "2024-04-26T17:46:50.958Z"
      },
      {
        "duration": 319,
        "start_time": "2024-04-26T17:46:51.282Z"
      },
      {
        "duration": 5,
        "start_time": "2024-04-26T17:46:51.602Z"
      },
      {
        "duration": 129,
        "start_time": "2024-04-26T17:46:51.608Z"
      },
      {
        "duration": 13,
        "start_time": "2024-04-26T17:46:51.738Z"
      },
      {
        "duration": 17,
        "start_time": "2024-04-26T17:46:51.754Z"
      },
      {
        "duration": 301,
        "start_time": "2024-04-26T17:46:51.773Z"
      },
      {
        "duration": 6,
        "start_time": "2024-04-26T17:46:52.075Z"
      },
      {
        "duration": 261,
        "start_time": "2024-04-26T17:46:52.082Z"
      },
      {
        "duration": 196,
        "start_time": "2024-04-26T17:46:52.344Z"
      },
      {
        "duration": 134,
        "start_time": "2024-04-26T17:46:52.542Z"
      },
      {
        "duration": 194,
        "start_time": "2024-04-26T17:46:52.678Z"
      },
      {
        "duration": 29,
        "start_time": "2024-04-26T17:46:52.874Z"
      },
      {
        "duration": 33,
        "start_time": "2024-04-26T17:46:52.905Z"
      },
      {
        "duration": 12,
        "start_time": "2024-04-26T17:46:52.940Z"
      },
      {
        "duration": 585,
        "start_time": "2024-04-26T17:46:52.955Z"
      },
      {
        "duration": 1848,
        "start_time": "2024-04-26T17:46:53.546Z"
      },
      {
        "duration": 209664,
        "start_time": "2024-04-26T17:46:55.396Z"
      },
      {
        "duration": 0,
        "start_time": "2024-04-26T17:50:25.062Z"
      },
      {
        "duration": 0,
        "start_time": "2024-04-26T17:50:25.063Z"
      },
      {
        "duration": 0,
        "start_time": "2024-04-26T17:50:25.064Z"
      },
      {
        "duration": 29,
        "start_time": "2024-04-26T17:50:27.853Z"
      },
      {
        "duration": 3,
        "start_time": "2024-04-26T17:53:06.669Z"
      },
      {
        "duration": 41,
        "start_time": "2024-04-26T17:53:06.674Z"
      },
      {
        "duration": 72,
        "start_time": "2024-04-26T17:53:06.717Z"
      },
      {
        "duration": 264,
        "start_time": "2024-04-26T17:53:06.791Z"
      },
      {
        "duration": 286,
        "start_time": "2024-04-26T17:53:07.057Z"
      },
      {
        "duration": 338,
        "start_time": "2024-04-26T17:53:07.345Z"
      },
      {
        "duration": 10,
        "start_time": "2024-04-26T17:53:07.685Z"
      },
      {
        "duration": 65,
        "start_time": "2024-04-26T17:53:07.697Z"
      },
      {
        "duration": 11,
        "start_time": "2024-04-26T17:53:07.764Z"
      },
      {
        "duration": 32,
        "start_time": "2024-04-26T17:53:07.777Z"
      },
      {
        "duration": 42827,
        "start_time": "2024-04-26T17:53:07.811Z"
      },
      {
        "duration": 0,
        "start_time": "2024-04-26T17:53:50.639Z"
      },
      {
        "duration": 0,
        "start_time": "2024-04-26T17:53:50.640Z"
      },
      {
        "duration": 0,
        "start_time": "2024-04-26T17:53:50.641Z"
      },
      {
        "duration": 0,
        "start_time": "2024-04-26T17:53:50.642Z"
      },
      {
        "duration": 0,
        "start_time": "2024-04-26T17:53:50.643Z"
      },
      {
        "duration": 0,
        "start_time": "2024-04-26T17:53:50.644Z"
      },
      {
        "duration": 0,
        "start_time": "2024-04-26T17:53:50.645Z"
      },
      {
        "duration": 4,
        "start_time": "2024-04-26T17:54:21.158Z"
      },
      {
        "duration": 28,
        "start_time": "2024-04-26T17:54:21.172Z"
      },
      {
        "duration": 96,
        "start_time": "2024-04-26T17:54:21.201Z"
      },
      {
        "duration": 266,
        "start_time": "2024-04-26T17:54:21.298Z"
      },
      {
        "duration": 300,
        "start_time": "2024-04-26T17:54:21.566Z"
      },
      {
        "duration": 401,
        "start_time": "2024-04-26T17:54:21.867Z"
      },
      {
        "duration": 2,
        "start_time": "2024-04-26T17:54:22.270Z"
      },
      {
        "duration": 58,
        "start_time": "2024-04-26T17:54:22.274Z"
      },
      {
        "duration": 11,
        "start_time": "2024-04-26T17:54:22.334Z"
      },
      {
        "duration": 42,
        "start_time": "2024-04-26T17:54:22.347Z"
      },
      {
        "duration": 178,
        "start_time": "2024-04-26T17:54:22.390Z"
      },
      {
        "duration": 7,
        "start_time": "2024-04-26T17:54:22.570Z"
      },
      {
        "duration": 220,
        "start_time": "2024-04-26T17:54:22.579Z"
      },
      {
        "duration": 208,
        "start_time": "2024-04-26T17:54:22.801Z"
      },
      {
        "duration": 124,
        "start_time": "2024-04-26T17:54:23.011Z"
      },
      {
        "duration": 140,
        "start_time": "2024-04-26T17:54:23.136Z"
      },
      {
        "duration": 24,
        "start_time": "2024-04-26T17:54:23.278Z"
      },
      {
        "duration": 27,
        "start_time": "2024-04-26T17:54:23.303Z"
      },
      {
        "duration": 6,
        "start_time": "2024-04-26T17:54:35.504Z"
      },
      {
        "duration": 5,
        "start_time": "2024-04-26T17:54:39.948Z"
      },
      {
        "duration": 451,
        "start_time": "2024-04-26T17:54:42.661Z"
      },
      {
        "duration": 801,
        "start_time": "2024-04-26T17:55:17.297Z"
      },
      {
        "duration": 117461,
        "start_time": "2024-04-26T17:55:31.447Z"
      },
      {
        "duration": 45465,
        "start_time": "2024-04-26T17:57:38.246Z"
      },
      {
        "duration": 1550,
        "start_time": "2024-04-26T17:59:54.492Z"
      },
      {
        "duration": 5,
        "start_time": "2024-04-26T17:59:56.043Z"
      },
      {
        "duration": 125,
        "start_time": "2024-04-26T17:59:56.049Z"
      },
      {
        "duration": 274,
        "start_time": "2024-04-26T17:59:56.176Z"
      },
      {
        "duration": 299,
        "start_time": "2024-04-26T17:59:56.451Z"
      },
      {
        "duration": 309,
        "start_time": "2024-04-26T17:59:56.751Z"
      },
      {
        "duration": 3,
        "start_time": "2024-04-26T17:59:57.062Z"
      },
      {
        "duration": 117,
        "start_time": "2024-04-26T17:59:57.067Z"
      },
      {
        "duration": 12,
        "start_time": "2024-04-26T17:59:57.185Z"
      },
      {
        "duration": 13,
        "start_time": "2024-04-26T17:59:57.201Z"
      },
      {
        "duration": 183,
        "start_time": "2024-04-26T17:59:57.215Z"
      },
      {
        "duration": 7,
        "start_time": "2024-04-26T17:59:57.400Z"
      },
      {
        "duration": 215,
        "start_time": "2024-04-26T17:59:57.408Z"
      },
      {
        "duration": 211,
        "start_time": "2024-04-26T17:59:57.625Z"
      },
      {
        "duration": 125,
        "start_time": "2024-04-26T17:59:57.837Z"
      },
      {
        "duration": 139,
        "start_time": "2024-04-26T17:59:57.963Z"
      },
      {
        "duration": 17,
        "start_time": "2024-04-26T17:59:58.104Z"
      },
      {
        "duration": 28,
        "start_time": "2024-04-26T17:59:58.122Z"
      },
      {
        "duration": 10,
        "start_time": "2024-04-26T17:59:58.151Z"
      },
      {
        "duration": 38,
        "start_time": "2024-04-26T17:59:58.162Z"
      },
      {
        "duration": 535,
        "start_time": "2024-04-26T17:59:58.202Z"
      },
      {
        "duration": 864,
        "start_time": "2024-04-26T17:59:58.738Z"
      },
      {
        "duration": 1975692,
        "start_time": "2024-04-26T17:59:59.604Z"
      },
      {
        "duration": 68132,
        "start_time": "2024-04-26T18:32:55.298Z"
      },
      {
        "duration": 41759,
        "start_time": "2024-04-26T18:34:03.431Z"
      },
      {
        "duration": 5,
        "start_time": "2024-04-26T18:34:45.191Z"
      },
      {
        "duration": 1950,
        "start_time": "2024-04-27T12:39:47.364Z"
      },
      {
        "duration": 6,
        "start_time": "2024-04-27T12:39:49.316Z"
      },
      {
        "duration": 208,
        "start_time": "2024-04-27T12:39:49.324Z"
      },
      {
        "duration": 367,
        "start_time": "2024-04-27T12:39:49.535Z"
      },
      {
        "duration": 316,
        "start_time": "2024-04-27T12:39:49.904Z"
      },
      {
        "duration": 374,
        "start_time": "2024-04-27T12:39:50.222Z"
      },
      {
        "duration": 3,
        "start_time": "2024-04-27T12:39:50.599Z"
      },
      {
        "duration": 123,
        "start_time": "2024-04-27T12:39:50.604Z"
      },
      {
        "duration": 12,
        "start_time": "2024-04-27T12:39:50.729Z"
      },
      {
        "duration": 16,
        "start_time": "2024-04-27T12:39:50.742Z"
      },
      {
        "duration": 214,
        "start_time": "2024-04-27T12:39:50.760Z"
      },
      {
        "duration": 19,
        "start_time": "2024-04-27T12:39:50.980Z"
      },
      {
        "duration": 252,
        "start_time": "2024-04-27T12:39:51.001Z"
      },
      {
        "duration": 277,
        "start_time": "2024-04-27T12:39:51.256Z"
      },
      {
        "duration": 169,
        "start_time": "2024-04-27T12:39:51.535Z"
      },
      {
        "duration": 182,
        "start_time": "2024-04-27T12:39:51.706Z"
      },
      {
        "duration": 20,
        "start_time": "2024-04-27T12:39:51.890Z"
      },
      {
        "duration": 21,
        "start_time": "2024-04-27T12:39:51.912Z"
      },
      {
        "duration": 59,
        "start_time": "2024-04-27T12:39:51.934Z"
      },
      {
        "duration": 46,
        "start_time": "2024-04-27T12:39:51.994Z"
      },
      {
        "duration": 54,
        "start_time": "2024-04-27T12:39:52.042Z"
      },
      {
        "duration": 267,
        "start_time": "2024-04-27T12:39:52.098Z"
      },
      {
        "duration": 124,
        "start_time": "2024-04-27T12:39:52.380Z"
      },
      {
        "duration": 244843,
        "start_time": "2024-04-27T12:39:52.506Z"
      },
      {
        "duration": 0,
        "start_time": "2024-04-27T12:43:57.350Z"
      },
      {
        "duration": 0,
        "start_time": "2024-04-27T12:43:57.352Z"
      },
      {
        "duration": 0,
        "start_time": "2024-04-27T12:43:57.353Z"
      },
      {
        "duration": 1833,
        "start_time": "2024-04-27T12:44:35.102Z"
      },
      {
        "duration": 5,
        "start_time": "2024-04-27T12:44:36.938Z"
      },
      {
        "duration": 109,
        "start_time": "2024-04-27T12:44:36.945Z"
      },
      {
        "duration": 346,
        "start_time": "2024-04-27T12:44:37.057Z"
      },
      {
        "duration": 321,
        "start_time": "2024-04-27T12:44:37.406Z"
      },
      {
        "duration": 339,
        "start_time": "2024-04-27T12:44:37.729Z"
      },
      {
        "duration": 15,
        "start_time": "2024-04-27T12:44:38.069Z"
      },
      {
        "duration": 144,
        "start_time": "2024-04-27T12:44:38.093Z"
      },
      {
        "duration": 13,
        "start_time": "2024-04-27T12:44:38.239Z"
      },
      {
        "duration": 39,
        "start_time": "2024-04-27T12:44:38.254Z"
      },
      {
        "duration": 201,
        "start_time": "2024-04-27T12:44:38.294Z"
      },
      {
        "duration": 7,
        "start_time": "2024-04-27T12:44:38.496Z"
      },
      {
        "duration": 259,
        "start_time": "2024-04-27T12:44:38.505Z"
      },
      {
        "duration": 270,
        "start_time": "2024-04-27T12:44:38.769Z"
      },
      {
        "duration": 163,
        "start_time": "2024-04-27T12:44:39.041Z"
      },
      {
        "duration": 168,
        "start_time": "2024-04-27T12:44:39.206Z"
      },
      {
        "duration": 26,
        "start_time": "2024-04-27T12:44:39.376Z"
      },
      {
        "duration": 148,
        "start_time": "2024-04-27T12:44:39.404Z"
      },
      {
        "duration": 0,
        "start_time": "2024-04-27T12:44:39.553Z"
      },
      {
        "duration": 0,
        "start_time": "2024-04-27T12:44:39.554Z"
      },
      {
        "duration": 0,
        "start_time": "2024-04-27T12:44:39.556Z"
      },
      {
        "duration": 0,
        "start_time": "2024-04-27T12:44:39.557Z"
      },
      {
        "duration": 0,
        "start_time": "2024-04-27T12:44:39.558Z"
      },
      {
        "duration": 0,
        "start_time": "2024-04-27T12:44:39.558Z"
      },
      {
        "duration": 0,
        "start_time": "2024-04-27T12:44:39.559Z"
      },
      {
        "duration": 0,
        "start_time": "2024-04-27T12:44:39.561Z"
      },
      {
        "duration": 0,
        "start_time": "2024-04-27T12:44:39.562Z"
      },
      {
        "duration": 9,
        "start_time": "2024-04-27T12:45:15.938Z"
      },
      {
        "duration": 49,
        "start_time": "2024-04-27T12:45:21.193Z"
      },
      {
        "duration": 7,
        "start_time": "2024-04-27T12:45:37.531Z"
      },
      {
        "duration": 5,
        "start_time": "2024-04-27T12:45:39.729Z"
      },
      {
        "duration": 686,
        "start_time": "2024-04-27T12:45:41.445Z"
      },
      {
        "duration": 1142,
        "start_time": "2024-04-27T12:45:44.249Z"
      },
      {
        "duration": 204261,
        "start_time": "2024-04-27T12:45:47.632Z"
      },
      {
        "duration": 82095,
        "start_time": "2024-04-27T12:49:11.895Z"
      },
      {
        "duration": 14346,
        "start_time": "2024-04-27T12:50:33.996Z"
      },
      {
        "duration": 5,
        "start_time": "2024-04-27T13:00:44.738Z"
      },
      {
        "duration": 13072,
        "start_time": "2024-04-27T13:01:03.377Z"
      },
      {
        "duration": 13192,
        "start_time": "2024-04-27T13:02:58.929Z"
      },
      {
        "duration": 13035,
        "start_time": "2024-04-27T13:04:32.707Z"
      },
      {
        "duration": 14,
        "start_time": "2024-04-27T13:29:56.226Z"
      },
      {
        "duration": 7,
        "start_time": "2024-04-27T13:30:43.340Z"
      },
      {
        "duration": 12,
        "start_time": "2024-04-27T13:30:57.903Z"
      },
      {
        "duration": 12,
        "start_time": "2024-04-27T13:31:32.905Z"
      },
      {
        "duration": 7,
        "start_time": "2024-04-27T13:31:44.312Z"
      },
      {
        "duration": 7,
        "start_time": "2024-04-27T13:33:07.542Z"
      },
      {
        "duration": 9,
        "start_time": "2024-04-27T13:33:27.233Z"
      },
      {
        "duration": 26,
        "start_time": "2024-04-27T13:33:53.867Z"
      },
      {
        "duration": 5,
        "start_time": "2024-04-27T13:35:16.712Z"
      },
      {
        "duration": 9,
        "start_time": "2024-04-27T13:35:20.806Z"
      },
      {
        "duration": 11,
        "start_time": "2024-04-27T13:35:28.413Z"
      },
      {
        "duration": 7,
        "start_time": "2024-04-27T13:35:58.812Z"
      },
      {
        "duration": 6,
        "start_time": "2024-04-27T13:36:01.398Z"
      },
      {
        "duration": 16,
        "start_time": "2024-04-27T13:37:13.848Z"
      },
      {
        "duration": 17,
        "start_time": "2024-04-27T13:37:57.296Z"
      },
      {
        "duration": 9,
        "start_time": "2024-04-27T13:38:05.222Z"
      },
      {
        "duration": 3,
        "start_time": "2024-04-27T13:38:47.807Z"
      },
      {
        "duration": 7,
        "start_time": "2024-04-27T13:38:55.564Z"
      },
      {
        "duration": 6,
        "start_time": "2024-04-27T13:39:11.688Z"
      },
      {
        "duration": 8,
        "start_time": "2024-04-27T13:40:07.256Z"
      },
      {
        "duration": 10,
        "start_time": "2024-04-27T13:40:15.558Z"
      },
      {
        "duration": 11,
        "start_time": "2024-04-27T13:40:34.597Z"
      },
      {
        "duration": 11,
        "start_time": "2024-04-27T13:40:38.060Z"
      },
      {
        "duration": 11,
        "start_time": "2024-04-27T13:42:26.747Z"
      },
      {
        "duration": 15,
        "start_time": "2024-04-27T13:42:32.559Z"
      },
      {
        "duration": 5,
        "start_time": "2024-04-27T13:42:49.239Z"
      },
      {
        "duration": 7,
        "start_time": "2024-04-27T13:42:50.531Z"
      },
      {
        "duration": 9,
        "start_time": "2024-04-27T13:43:17.565Z"
      },
      {
        "duration": 13,
        "start_time": "2024-04-27T13:43:18.897Z"
      },
      {
        "duration": 8,
        "start_time": "2024-04-27T13:43:28.909Z"
      },
      {
        "duration": 12,
        "start_time": "2024-04-27T13:43:30.269Z"
      },
      {
        "duration": 16,
        "start_time": "2024-04-27T13:46:10.463Z"
      },
      {
        "duration": 8,
        "start_time": "2024-04-27T13:46:41.888Z"
      },
      {
        "duration": 18,
        "start_time": "2024-04-27T13:46:45.576Z"
      },
      {
        "duration": 7,
        "start_time": "2024-04-27T13:47:02.303Z"
      },
      {
        "duration": 17,
        "start_time": "2024-04-27T13:47:06.368Z"
      },
      {
        "duration": 8,
        "start_time": "2024-04-27T13:47:12.315Z"
      },
      {
        "duration": 15,
        "start_time": "2024-04-27T13:47:14.501Z"
      },
      {
        "duration": 13,
        "start_time": "2024-04-27T13:47:39.700Z"
      },
      {
        "duration": 12,
        "start_time": "2024-04-27T13:47:46.612Z"
      },
      {
        "duration": 5,
        "start_time": "2024-04-27T13:48:04.957Z"
      },
      {
        "duration": 3,
        "start_time": "2024-04-27T13:48:40.953Z"
      },
      {
        "duration": 20,
        "start_time": "2024-04-27T13:48:42.453Z"
      },
      {
        "duration": 6,
        "start_time": "2024-04-27T13:48:52.447Z"
      },
      {
        "duration": 11,
        "start_time": "2024-04-27T13:48:54.943Z"
      },
      {
        "duration": 9,
        "start_time": "2024-04-27T13:49:12.308Z"
      },
      {
        "duration": 9,
        "start_time": "2024-04-27T13:49:40.592Z"
      },
      {
        "duration": 14347,
        "start_time": "2024-04-27T13:50:02.101Z"
      },
      {
        "duration": 3,
        "start_time": "2024-04-27T13:52:02.015Z"
      },
      {
        "duration": 18,
        "start_time": "2024-04-27T13:52:10.028Z"
      },
      {
        "duration": 13,
        "start_time": "2024-04-27T13:53:37.430Z"
      },
      {
        "duration": 27,
        "start_time": "2024-04-27T13:54:19.304Z"
      },
      {
        "duration": 480,
        "start_time": "2024-04-27T13:54:26.321Z"
      },
      {
        "duration": 376,
        "start_time": "2024-04-27T13:55:00.737Z"
      },
      {
        "duration": 401,
        "start_time": "2024-04-27T13:57:08.012Z"
      },
      {
        "duration": 380,
        "start_time": "2024-04-27T13:57:54.725Z"
      },
      {
        "duration": 409,
        "start_time": "2024-04-27T13:58:05.993Z"
      },
      {
        "duration": 535,
        "start_time": "2024-04-27T13:58:31.935Z"
      },
      {
        "duration": 322,
        "start_time": "2024-04-27T14:00:03.341Z"
      },
      {
        "duration": 400,
        "start_time": "2024-04-27T14:00:14.094Z"
      },
      {
        "duration": 385,
        "start_time": "2024-04-27T14:00:48.393Z"
      },
      {
        "duration": 104,
        "start_time": "2024-04-27T14:03:29.426Z"
      },
      {
        "duration": 293,
        "start_time": "2024-04-27T14:03:39.815Z"
      },
      {
        "duration": 5,
        "start_time": "2024-04-27T14:03:57.711Z"
      },
      {
        "duration": 315,
        "start_time": "2024-04-27T14:04:03.461Z"
      },
      {
        "duration": 21,
        "start_time": "2024-04-27T14:05:14.012Z"
      },
      {
        "duration": 17,
        "start_time": "2024-04-27T14:06:32.579Z"
      },
      {
        "duration": 28,
        "start_time": "2024-04-27T14:06:54.471Z"
      },
      {
        "duration": 321,
        "start_time": "2024-04-27T14:08:38.769Z"
      },
      {
        "duration": 336,
        "start_time": "2024-04-27T14:09:07.460Z"
      },
      {
        "duration": 343,
        "start_time": "2024-04-27T14:09:26.694Z"
      },
      {
        "duration": 359,
        "start_time": "2024-04-27T14:10:00.186Z"
      },
      {
        "duration": 386,
        "start_time": "2024-04-27T14:12:13.867Z"
      },
      {
        "duration": 356,
        "start_time": "2024-04-27T14:14:29.074Z"
      },
      {
        "duration": 391,
        "start_time": "2024-04-27T14:14:41.676Z"
      },
      {
        "duration": 388,
        "start_time": "2024-04-27T14:14:50.448Z"
      },
      {
        "duration": 14,
        "start_time": "2024-04-27T14:18:57.981Z"
      },
      {
        "duration": 403,
        "start_time": "2024-04-27T14:19:45.168Z"
      },
      {
        "duration": 1664,
        "start_time": "2024-04-27T14:21:16.019Z"
      },
      {
        "duration": 6,
        "start_time": "2024-04-27T14:21:17.685Z"
      },
      {
        "duration": 102,
        "start_time": "2024-04-27T14:21:17.693Z"
      },
      {
        "duration": 318,
        "start_time": "2024-04-27T14:21:17.798Z"
      },
      {
        "duration": 338,
        "start_time": "2024-04-27T14:21:18.117Z"
      },
      {
        "duration": 326,
        "start_time": "2024-04-27T14:21:18.457Z"
      },
      {
        "duration": 8,
        "start_time": "2024-04-27T14:21:18.785Z"
      },
      {
        "duration": 152,
        "start_time": "2024-04-27T14:21:18.795Z"
      },
      {
        "duration": 12,
        "start_time": "2024-04-27T14:21:18.949Z"
      },
      {
        "duration": 19,
        "start_time": "2024-04-27T14:21:18.963Z"
      },
      {
        "duration": 189,
        "start_time": "2024-04-27T14:21:18.984Z"
      },
      {
        "duration": 11,
        "start_time": "2024-04-27T14:21:19.175Z"
      },
      {
        "duration": 269,
        "start_time": "2024-04-27T14:21:19.188Z"
      },
      {
        "duration": 252,
        "start_time": "2024-04-27T14:21:19.458Z"
      },
      {
        "duration": 155,
        "start_time": "2024-04-27T14:21:19.712Z"
      },
      {
        "duration": 185,
        "start_time": "2024-04-27T14:21:19.869Z"
      },
      {
        "duration": 32,
        "start_time": "2024-04-27T14:21:20.056Z"
      },
      {
        "duration": 12,
        "start_time": "2024-04-27T14:21:20.091Z"
      },
      {
        "duration": 67,
        "start_time": "2024-04-27T14:21:20.105Z"
      },
      {
        "duration": 63,
        "start_time": "2024-04-27T14:21:20.173Z"
      },
      {
        "duration": 19,
        "start_time": "2024-04-27T14:21:20.238Z"
      },
      {
        "duration": 603,
        "start_time": "2024-04-27T14:21:20.259Z"
      },
      {
        "duration": 1419,
        "start_time": "2024-04-27T14:21:20.863Z"
      },
      {
        "duration": 131801,
        "start_time": "2024-04-27T14:21:22.286Z"
      },
      {
        "duration": 73559,
        "start_time": "2024-04-27T14:23:34.089Z"
      },
      {
        "duration": 12550,
        "start_time": "2024-04-27T14:24:47.649Z"
      },
      {
        "duration": 352,
        "start_time": "2024-04-27T14:25:00.202Z"
      },
      {
        "duration": 5,
        "start_time": "2024-04-27T14:25:00.558Z"
      },
      {
        "duration": 12910,
        "start_time": "2024-04-27T14:29:35.735Z"
      },
      {
        "duration": 1516,
        "start_time": "2024-04-27T14:30:20.435Z"
      },
      {
        "duration": 5,
        "start_time": "2024-04-27T14:30:21.953Z"
      },
      {
        "duration": 81,
        "start_time": "2024-04-27T14:30:21.960Z"
      },
      {
        "duration": 338,
        "start_time": "2024-04-27T14:30:22.044Z"
      },
      {
        "duration": 284,
        "start_time": "2024-04-27T14:30:22.383Z"
      },
      {
        "duration": 299,
        "start_time": "2024-04-27T14:30:22.668Z"
      },
      {
        "duration": 12,
        "start_time": "2024-04-27T14:30:22.969Z"
      },
      {
        "duration": 117,
        "start_time": "2024-04-27T14:30:22.982Z"
      },
      {
        "duration": 11,
        "start_time": "2024-04-27T14:30:23.100Z"
      },
      {
        "duration": 7,
        "start_time": "2024-04-27T14:30:23.114Z"
      },
      {
        "duration": 186,
        "start_time": "2024-04-27T14:30:23.122Z"
      },
      {
        "duration": 6,
        "start_time": "2024-04-27T14:30:23.309Z"
      },
      {
        "duration": 241,
        "start_time": "2024-04-27T14:30:23.316Z"
      },
      {
        "duration": 233,
        "start_time": "2024-04-27T14:30:23.558Z"
      },
      {
        "duration": 168,
        "start_time": "2024-04-27T14:30:23.792Z"
      },
      {
        "duration": 157,
        "start_time": "2024-04-27T14:30:23.962Z"
      },
      {
        "duration": 18,
        "start_time": "2024-04-27T14:30:24.121Z"
      },
      {
        "duration": 18,
        "start_time": "2024-04-27T14:30:24.141Z"
      },
      {
        "duration": 38,
        "start_time": "2024-04-27T14:30:24.160Z"
      },
      {
        "duration": 8,
        "start_time": "2024-04-27T14:30:24.200Z"
      },
      {
        "duration": 5,
        "start_time": "2024-04-27T14:30:24.210Z"
      },
      {
        "duration": 708,
        "start_time": "2024-04-27T14:30:24.217Z"
      },
      {
        "duration": 765,
        "start_time": "2024-04-27T14:30:24.926Z"
      },
      {
        "duration": 197694,
        "start_time": "2024-04-27T14:30:25.693Z"
      },
      {
        "duration": 73786,
        "start_time": "2024-04-27T14:33:43.388Z"
      },
      {
        "duration": 14188,
        "start_time": "2024-04-27T14:34:57.175Z"
      },
      {
        "duration": 309,
        "start_time": "2024-04-27T14:35:11.365Z"
      },
      {
        "duration": 4,
        "start_time": "2024-04-27T14:35:11.677Z"
      },
      {
        "duration": 295,
        "start_time": "2024-04-27T14:35:27.757Z"
      },
      {
        "duration": 1701,
        "start_time": "2024-04-27T14:36:16.175Z"
      },
      {
        "duration": 8,
        "start_time": "2024-04-27T14:36:17.878Z"
      },
      {
        "duration": 70,
        "start_time": "2024-04-27T14:36:17.888Z"
      },
      {
        "duration": 325,
        "start_time": "2024-04-27T14:36:17.960Z"
      },
      {
        "duration": 312,
        "start_time": "2024-04-27T14:36:18.289Z"
      },
      {
        "duration": 337,
        "start_time": "2024-04-27T14:36:18.604Z"
      },
      {
        "duration": 3,
        "start_time": "2024-04-27T14:36:18.942Z"
      },
      {
        "duration": 125,
        "start_time": "2024-04-27T14:36:18.947Z"
      },
      {
        "duration": 22,
        "start_time": "2024-04-27T14:36:19.074Z"
      },
      {
        "duration": 8,
        "start_time": "2024-04-27T14:36:19.098Z"
      },
      {
        "duration": 247,
        "start_time": "2024-04-27T14:36:19.108Z"
      },
      {
        "duration": 7,
        "start_time": "2024-04-27T14:36:19.356Z"
      },
      {
        "duration": 214,
        "start_time": "2024-04-27T14:36:19.364Z"
      },
      {
        "duration": 218,
        "start_time": "2024-04-27T14:36:19.582Z"
      },
      {
        "duration": 143,
        "start_time": "2024-04-27T14:36:19.802Z"
      },
      {
        "duration": 151,
        "start_time": "2024-04-27T14:36:19.947Z"
      },
      {
        "duration": 19,
        "start_time": "2024-04-27T14:36:20.100Z"
      },
      {
        "duration": 22,
        "start_time": "2024-04-27T14:36:20.121Z"
      },
      {
        "duration": 28,
        "start_time": "2024-04-27T14:36:20.145Z"
      },
      {
        "duration": 8,
        "start_time": "2024-04-27T14:36:20.180Z"
      },
      {
        "duration": 8,
        "start_time": "2024-04-27T14:36:20.190Z"
      },
      {
        "duration": 502,
        "start_time": "2024-04-27T14:36:20.200Z"
      },
      {
        "duration": 1384,
        "start_time": "2024-04-27T14:36:20.704Z"
      },
      {
        "duration": 339897,
        "start_time": "2024-04-27T14:36:22.090Z"
      },
      {
        "duration": 87638,
        "start_time": "2024-04-27T14:42:01.991Z"
      },
      {
        "duration": 13738,
        "start_time": "2024-04-27T14:43:29.631Z"
      },
      {
        "duration": 342,
        "start_time": "2024-04-27T14:43:43.371Z"
      },
      {
        "duration": 4,
        "start_time": "2024-04-27T14:43:43.715Z"
      },
      {
        "duration": 24,
        "start_time": "2024-04-27T14:44:44.197Z"
      },
      {
        "duration": 34,
        "start_time": "2024-04-27T14:44:48.715Z"
      },
      {
        "duration": 1737,
        "start_time": "2024-04-27T14:45:10.009Z"
      },
      {
        "duration": 5,
        "start_time": "2024-04-27T14:45:11.748Z"
      },
      {
        "duration": 83,
        "start_time": "2024-04-27T14:45:11.754Z"
      },
      {
        "duration": 369,
        "start_time": "2024-04-27T14:45:11.839Z"
      },
      {
        "duration": 359,
        "start_time": "2024-04-27T14:45:12.210Z"
      },
      {
        "duration": 388,
        "start_time": "2024-04-27T14:45:12.571Z"
      },
      {
        "duration": 3,
        "start_time": "2024-04-27T14:45:12.961Z"
      },
      {
        "duration": 142,
        "start_time": "2024-04-27T14:45:12.966Z"
      },
      {
        "duration": 14,
        "start_time": "2024-04-27T14:45:13.110Z"
      },
      {
        "duration": 19,
        "start_time": "2024-04-27T14:45:13.127Z"
      },
      {
        "duration": 214,
        "start_time": "2024-04-27T14:45:13.148Z"
      },
      {
        "duration": 7,
        "start_time": "2024-04-27T14:45:13.364Z"
      },
      {
        "duration": 255,
        "start_time": "2024-04-27T14:45:13.383Z"
      },
      {
        "duration": 259,
        "start_time": "2024-04-27T14:45:13.640Z"
      },
      {
        "duration": 175,
        "start_time": "2024-04-27T14:45:13.901Z"
      },
      {
        "duration": 202,
        "start_time": "2024-04-27T14:45:14.078Z"
      },
      {
        "duration": 29,
        "start_time": "2024-04-27T14:45:14.282Z"
      },
      {
        "duration": 29,
        "start_time": "2024-04-27T14:45:14.313Z"
      },
      {
        "duration": 14,
        "start_time": "2024-04-27T14:45:14.344Z"
      },
      {
        "duration": 9,
        "start_time": "2024-04-27T14:45:14.379Z"
      },
      {
        "duration": 726,
        "start_time": "2024-04-27T14:45:14.390Z"
      },
      {
        "duration": 1467,
        "start_time": "2024-04-27T14:45:15.117Z"
      },
      {
        "duration": 988407,
        "start_time": "2024-04-27T14:45:16.588Z"
      },
      {
        "duration": 78159,
        "start_time": "2024-04-27T15:01:44.998Z"
      },
      {
        "duration": 13926,
        "start_time": "2024-04-27T15:03:03.158Z"
      },
      {
        "duration": 318,
        "start_time": "2024-04-27T15:03:17.087Z"
      },
      {
        "duration": 4,
        "start_time": "2024-04-27T15:03:17.407Z"
      }
    ],
    "kernelspec": {
      "display_name": "Python 3 (ipykernel)",
      "language": "python",
      "name": "python3"
    },
    "language_info": {
      "codemirror_mode": {
        "name": "ipython",
        "version": 3
      },
      "file_extension": ".py",
      "mimetype": "text/x-python",
      "name": "python",
      "nbconvert_exporter": "python",
      "pygments_lexer": "ipython3",
      "version": "3.9.5"
    },
    "toc": {
      "base_numbering": 1,
      "nav_menu": {},
      "number_sections": true,
      "sideBar": true,
      "skip_h1_title": true,
      "title_cell": "Содержание",
      "title_sidebar": "Contents",
      "toc_cell": true,
      "toc_position": {
        "height": "calc(100% - 180px)",
        "left": "10px",
        "top": "150px",
        "width": "165px"
      },
      "toc_section_display": true,
      "toc_window_display": true
    },
    "colab": {
      "provenance": [],
      "toc_visible": true,
      "include_colab_link": true
    }
  },
  "nbformat": 4,
  "nbformat_minor": 0
}